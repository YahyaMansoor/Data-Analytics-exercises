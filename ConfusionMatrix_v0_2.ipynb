{
  "nbformat": 4,
  "nbformat_minor": 0,
  "metadata": {
    "colab": {
      "provenance": [],
      "include_colab_link": true
    },
    "kernelspec": {
      "name": "python3",
      "display_name": "Python 3"
    }
  },
  "cells": [
    {
      "cell_type": "markdown",
      "metadata": {
        "id": "view-in-github",
        "colab_type": "text"
      },
      "source": [
        "<a href=\"https://colab.research.google.com/github/YahyaMansoor/Data-Analytics-exercises/blob/main/ConfusionMatrix_v0_2.ipynb\" target=\"_parent\"><img src=\"https://colab.research.google.com/assets/colab-badge.svg\" alt=\"Open In Colab\"/></a>"
      ]
    },
    {
      "cell_type": "markdown",
      "metadata": {
        "id": "dPTP12g0IwHF"
      },
      "source": [
        "#  Hunting Exoplanets In Space - Model Evaluation"
      ]
    },
    {
      "cell_type": "markdown",
      "metadata": {
        "id": "jYw4DZm8AcYQ"
      },
      "source": [
        "---"
      ]
    },
    {
      "cell_type": "markdown",
      "metadata": {
        "id": "YdmZPtYSn7kA"
      },
      "source": [
        "### \n",
        "\n",
        "In the previous class, we deployed the `RandomForestClassifier` prediction model which classified the stars, in the test dataset, as `1` and `2`.\n",
        "\n",
        "The model turned out to be 99% accurate. However, in the dataset, `565` stars are classified as `1` and remaining `5` are classified as `2`. But the Random Forest Classifier model classified every star as `1`. Ideally, it should classify a few stars as `2` because the ultimate goal of the Kepler Space telescope was to find exoplanets in space.\n",
        "\n",
        "Hence, we need to ensure that for any kind of uneven distribution of data in the test dataset, our model should make accurate predictions. For this purpose, we need to evaluate the model that we deployed.\n",
        "\n",
        "Generally, a classification model (in this case, Random Forest Classification) is evaluated through a concept called **confusion matrix**.\n",
        "\n",
        "In this class, we will learn how to evaluate the performance of a classification-based machine learning model using a confusion matrix.\n",
        "\n",
        "\n",
        "Let's run all the codes in the code cells that we have already covered in the previous classes and begin this class from **Activity 1: The Confusion Matrix** section. You too run the code cells until the first activity.\n"
      ]
    },
    {
      "cell_type": "markdown",
      "metadata": {
        "id": "eq9mAtEg9cpZ"
      },
      "source": [
        "---"
      ]
    },
    {
      "cell_type": "markdown",
      "metadata": {
        "id": "OwzryU6Zie33"
      },
      "source": [
        "#### Loading The Datasets\n",
        "Create a Pandas DataFrame every time you start the Jupyter notebook.\n",
        "\n",
        "Dataset links (don't click on them):\n",
        "\n",
        "1. Train dataset\n",
        "\n",
        "  https://s3-student-datasets-bucket.whjr.online/whitehat-ds-datasets/kepler-exoplanets-dataset/exoTrain.csv\n",
        "\n",
        "2. Test dataset\n",
        "\n",
        "  https://s3-student-datasets-bucket.whjr.online/whitehat-ds-datasets/kepler-exoplanets-dataset/exoTest.csv"
      ]
    },
    {
      "cell_type": "code",
      "metadata": {
        "id": "zjScdqmQstFg",
        "colab": {
          "base_uri": "https://localhost:8080/",
          "height": 488
        },
        "outputId": "b8457b10-77f2-4d02-b977-90530d6b6d95"
      },
      "source": [
        "# Load the datasets.\n",
        "import pandas as pd\n",
        "exo_train_df = pd.read_csv('https://s3-student-datasets-bucket.whjr.online/whitehat-ds-datasets/kepler-exoplanets-dataset/exoTrain.csv')\n",
        "exo_test_df = pd.read_csv('https://s3-student-datasets-bucket.whjr.online/whitehat-ds-datasets/kepler-exoplanets-dataset/exoTest.csv')\n",
        "exo_train_df"
      ],
      "execution_count": null,
      "outputs": [
        {
          "output_type": "execute_result",
          "data": {
            "text/plain": [
              "      LABEL   FLUX.1   FLUX.2   FLUX.3   FLUX.4   FLUX.5   FLUX.6  FLUX.7  \\\n",
              "0         2    93.85    83.81    20.10   -26.98   -39.56  -124.71 -135.18   \n",
              "1         2   -38.88   -33.83   -58.54   -40.09   -79.31   -72.81  -86.55   \n",
              "2         2   532.64   535.92   513.73   496.92   456.45   466.00  464.50   \n",
              "3         2   326.52   347.39   302.35   298.13   317.74   312.70  322.33   \n",
              "4         2 -1107.21 -1112.59 -1118.95 -1095.10 -1057.55 -1034.48 -998.34   \n",
              "...     ...      ...      ...      ...      ...      ...      ...     ...   \n",
              "5082      1   -91.91   -92.97   -78.76   -97.33   -68.00   -68.24  -75.48   \n",
              "5083      1   989.75   891.01   908.53   851.83   755.11   615.78  595.77   \n",
              "5084      1   273.39   278.00   261.73   236.99   280.73   264.90  252.92   \n",
              "5085      1     3.82     2.09    -3.29    -2.88     1.66    -0.75    3.85   \n",
              "5086      1   323.28   306.36   293.16   287.67   249.89   218.30  188.86   \n",
              "\n",
              "       FLUX.8  FLUX.9  ...  FLUX.3188  FLUX.3189  FLUX.3190  FLUX.3191  \\\n",
              "0      -96.27  -79.89  ...     -78.07    -102.15    -102.15      25.13   \n",
              "1      -85.33  -83.97  ...      -3.28     -32.21     -32.21     -24.89   \n",
              "2      486.39  436.56  ...     -71.69      13.31      13.31     -29.89   \n",
              "3      311.31  312.42  ...       5.71      -3.73      -3.73      30.05   \n",
              "4    -1022.71 -989.57  ...    -594.37    -401.66    -401.66    -357.24   \n",
              "...       ...     ...  ...        ...        ...        ...        ...   \n",
              "5082   -49.25  -30.92  ...     139.95     147.26     156.95     155.64   \n",
              "5083   458.87  492.84  ...     -26.50      -4.84     -76.30     -37.84   \n",
              "5084   254.88  237.60  ...     -26.82     -53.89     -48.71      30.99   \n",
              "5085    -0.03    3.28  ...      10.86      -3.23      -5.10      -4.61   \n",
              "5086   178.93  118.93  ...      71.19       0.97      55.20      -1.63   \n",
              "\n",
              "      FLUX.3192  FLUX.3193  FLUX.3194  FLUX.3195  FLUX.3196  FLUX.3197  \n",
              "0         48.57      92.54      39.32      61.42       5.08     -39.54  \n",
              "1         -4.86       0.76     -11.70       6.46      16.00      19.93  \n",
              "2        -20.88       5.06     -11.80     -28.91     -70.02     -96.67  \n",
              "3         20.03     -12.67      -8.77     -17.31     -17.35      13.98  \n",
              "4       -443.76    -438.54    -399.71    -384.65    -411.79    -510.54  \n",
              "...         ...        ...        ...        ...        ...        ...  \n",
              "5082     156.36     151.75     -24.45     -17.00       3.23      19.28  \n",
              "5083    -153.83    -136.16      38.03     100.28     -45.64      35.58  \n",
              "5084      15.96      -3.47      65.73      88.42      79.07      79.43  \n",
              "5085      -9.82      -1.50      -4.65     -14.55      -6.41      -2.55  \n",
              "5086      -5.50     -25.33     -41.31     -16.72     -14.09      27.82  \n",
              "\n",
              "[5087 rows x 3198 columns]"
            ],
            "text/html": [
              "\n",
              "  <div id=\"df-0872254c-e24d-4e30-be2f-5bc24c83188a\">\n",
              "    <div class=\"colab-df-container\">\n",
              "      <div>\n",
              "<style scoped>\n",
              "    .dataframe tbody tr th:only-of-type {\n",
              "        vertical-align: middle;\n",
              "    }\n",
              "\n",
              "    .dataframe tbody tr th {\n",
              "        vertical-align: top;\n",
              "    }\n",
              "\n",
              "    .dataframe thead th {\n",
              "        text-align: right;\n",
              "    }\n",
              "</style>\n",
              "<table border=\"1\" class=\"dataframe\">\n",
              "  <thead>\n",
              "    <tr style=\"text-align: right;\">\n",
              "      <th></th>\n",
              "      <th>LABEL</th>\n",
              "      <th>FLUX.1</th>\n",
              "      <th>FLUX.2</th>\n",
              "      <th>FLUX.3</th>\n",
              "      <th>FLUX.4</th>\n",
              "      <th>FLUX.5</th>\n",
              "      <th>FLUX.6</th>\n",
              "      <th>FLUX.7</th>\n",
              "      <th>FLUX.8</th>\n",
              "      <th>FLUX.9</th>\n",
              "      <th>...</th>\n",
              "      <th>FLUX.3188</th>\n",
              "      <th>FLUX.3189</th>\n",
              "      <th>FLUX.3190</th>\n",
              "      <th>FLUX.3191</th>\n",
              "      <th>FLUX.3192</th>\n",
              "      <th>FLUX.3193</th>\n",
              "      <th>FLUX.3194</th>\n",
              "      <th>FLUX.3195</th>\n",
              "      <th>FLUX.3196</th>\n",
              "      <th>FLUX.3197</th>\n",
              "    </tr>\n",
              "  </thead>\n",
              "  <tbody>\n",
              "    <tr>\n",
              "      <th>0</th>\n",
              "      <td>2</td>\n",
              "      <td>93.85</td>\n",
              "      <td>83.81</td>\n",
              "      <td>20.10</td>\n",
              "      <td>-26.98</td>\n",
              "      <td>-39.56</td>\n",
              "      <td>-124.71</td>\n",
              "      <td>-135.18</td>\n",
              "      <td>-96.27</td>\n",
              "      <td>-79.89</td>\n",
              "      <td>...</td>\n",
              "      <td>-78.07</td>\n",
              "      <td>-102.15</td>\n",
              "      <td>-102.15</td>\n",
              "      <td>25.13</td>\n",
              "      <td>48.57</td>\n",
              "      <td>92.54</td>\n",
              "      <td>39.32</td>\n",
              "      <td>61.42</td>\n",
              "      <td>5.08</td>\n",
              "      <td>-39.54</td>\n",
              "    </tr>\n",
              "    <tr>\n",
              "      <th>1</th>\n",
              "      <td>2</td>\n",
              "      <td>-38.88</td>\n",
              "      <td>-33.83</td>\n",
              "      <td>-58.54</td>\n",
              "      <td>-40.09</td>\n",
              "      <td>-79.31</td>\n",
              "      <td>-72.81</td>\n",
              "      <td>-86.55</td>\n",
              "      <td>-85.33</td>\n",
              "      <td>-83.97</td>\n",
              "      <td>...</td>\n",
              "      <td>-3.28</td>\n",
              "      <td>-32.21</td>\n",
              "      <td>-32.21</td>\n",
              "      <td>-24.89</td>\n",
              "      <td>-4.86</td>\n",
              "      <td>0.76</td>\n",
              "      <td>-11.70</td>\n",
              "      <td>6.46</td>\n",
              "      <td>16.00</td>\n",
              "      <td>19.93</td>\n",
              "    </tr>\n",
              "    <tr>\n",
              "      <th>2</th>\n",
              "      <td>2</td>\n",
              "      <td>532.64</td>\n",
              "      <td>535.92</td>\n",
              "      <td>513.73</td>\n",
              "      <td>496.92</td>\n",
              "      <td>456.45</td>\n",
              "      <td>466.00</td>\n",
              "      <td>464.50</td>\n",
              "      <td>486.39</td>\n",
              "      <td>436.56</td>\n",
              "      <td>...</td>\n",
              "      <td>-71.69</td>\n",
              "      <td>13.31</td>\n",
              "      <td>13.31</td>\n",
              "      <td>-29.89</td>\n",
              "      <td>-20.88</td>\n",
              "      <td>5.06</td>\n",
              "      <td>-11.80</td>\n",
              "      <td>-28.91</td>\n",
              "      <td>-70.02</td>\n",
              "      <td>-96.67</td>\n",
              "    </tr>\n",
              "    <tr>\n",
              "      <th>3</th>\n",
              "      <td>2</td>\n",
              "      <td>326.52</td>\n",
              "      <td>347.39</td>\n",
              "      <td>302.35</td>\n",
              "      <td>298.13</td>\n",
              "      <td>317.74</td>\n",
              "      <td>312.70</td>\n",
              "      <td>322.33</td>\n",
              "      <td>311.31</td>\n",
              "      <td>312.42</td>\n",
              "      <td>...</td>\n",
              "      <td>5.71</td>\n",
              "      <td>-3.73</td>\n",
              "      <td>-3.73</td>\n",
              "      <td>30.05</td>\n",
              "      <td>20.03</td>\n",
              "      <td>-12.67</td>\n",
              "      <td>-8.77</td>\n",
              "      <td>-17.31</td>\n",
              "      <td>-17.35</td>\n",
              "      <td>13.98</td>\n",
              "    </tr>\n",
              "    <tr>\n",
              "      <th>4</th>\n",
              "      <td>2</td>\n",
              "      <td>-1107.21</td>\n",
              "      <td>-1112.59</td>\n",
              "      <td>-1118.95</td>\n",
              "      <td>-1095.10</td>\n",
              "      <td>-1057.55</td>\n",
              "      <td>-1034.48</td>\n",
              "      <td>-998.34</td>\n",
              "      <td>-1022.71</td>\n",
              "      <td>-989.57</td>\n",
              "      <td>...</td>\n",
              "      <td>-594.37</td>\n",
              "      <td>-401.66</td>\n",
              "      <td>-401.66</td>\n",
              "      <td>-357.24</td>\n",
              "      <td>-443.76</td>\n",
              "      <td>-438.54</td>\n",
              "      <td>-399.71</td>\n",
              "      <td>-384.65</td>\n",
              "      <td>-411.79</td>\n",
              "      <td>-510.54</td>\n",
              "    </tr>\n",
              "    <tr>\n",
              "      <th>...</th>\n",
              "      <td>...</td>\n",
              "      <td>...</td>\n",
              "      <td>...</td>\n",
              "      <td>...</td>\n",
              "      <td>...</td>\n",
              "      <td>...</td>\n",
              "      <td>...</td>\n",
              "      <td>...</td>\n",
              "      <td>...</td>\n",
              "      <td>...</td>\n",
              "      <td>...</td>\n",
              "      <td>...</td>\n",
              "      <td>...</td>\n",
              "      <td>...</td>\n",
              "      <td>...</td>\n",
              "      <td>...</td>\n",
              "      <td>...</td>\n",
              "      <td>...</td>\n",
              "      <td>...</td>\n",
              "      <td>...</td>\n",
              "      <td>...</td>\n",
              "    </tr>\n",
              "    <tr>\n",
              "      <th>5082</th>\n",
              "      <td>1</td>\n",
              "      <td>-91.91</td>\n",
              "      <td>-92.97</td>\n",
              "      <td>-78.76</td>\n",
              "      <td>-97.33</td>\n",
              "      <td>-68.00</td>\n",
              "      <td>-68.24</td>\n",
              "      <td>-75.48</td>\n",
              "      <td>-49.25</td>\n",
              "      <td>-30.92</td>\n",
              "      <td>...</td>\n",
              "      <td>139.95</td>\n",
              "      <td>147.26</td>\n",
              "      <td>156.95</td>\n",
              "      <td>155.64</td>\n",
              "      <td>156.36</td>\n",
              "      <td>151.75</td>\n",
              "      <td>-24.45</td>\n",
              "      <td>-17.00</td>\n",
              "      <td>3.23</td>\n",
              "      <td>19.28</td>\n",
              "    </tr>\n",
              "    <tr>\n",
              "      <th>5083</th>\n",
              "      <td>1</td>\n",
              "      <td>989.75</td>\n",
              "      <td>891.01</td>\n",
              "      <td>908.53</td>\n",
              "      <td>851.83</td>\n",
              "      <td>755.11</td>\n",
              "      <td>615.78</td>\n",
              "      <td>595.77</td>\n",
              "      <td>458.87</td>\n",
              "      <td>492.84</td>\n",
              "      <td>...</td>\n",
              "      <td>-26.50</td>\n",
              "      <td>-4.84</td>\n",
              "      <td>-76.30</td>\n",
              "      <td>-37.84</td>\n",
              "      <td>-153.83</td>\n",
              "      <td>-136.16</td>\n",
              "      <td>38.03</td>\n",
              "      <td>100.28</td>\n",
              "      <td>-45.64</td>\n",
              "      <td>35.58</td>\n",
              "    </tr>\n",
              "    <tr>\n",
              "      <th>5084</th>\n",
              "      <td>1</td>\n",
              "      <td>273.39</td>\n",
              "      <td>278.00</td>\n",
              "      <td>261.73</td>\n",
              "      <td>236.99</td>\n",
              "      <td>280.73</td>\n",
              "      <td>264.90</td>\n",
              "      <td>252.92</td>\n",
              "      <td>254.88</td>\n",
              "      <td>237.60</td>\n",
              "      <td>...</td>\n",
              "      <td>-26.82</td>\n",
              "      <td>-53.89</td>\n",
              "      <td>-48.71</td>\n",
              "      <td>30.99</td>\n",
              "      <td>15.96</td>\n",
              "      <td>-3.47</td>\n",
              "      <td>65.73</td>\n",
              "      <td>88.42</td>\n",
              "      <td>79.07</td>\n",
              "      <td>79.43</td>\n",
              "    </tr>\n",
              "    <tr>\n",
              "      <th>5085</th>\n",
              "      <td>1</td>\n",
              "      <td>3.82</td>\n",
              "      <td>2.09</td>\n",
              "      <td>-3.29</td>\n",
              "      <td>-2.88</td>\n",
              "      <td>1.66</td>\n",
              "      <td>-0.75</td>\n",
              "      <td>3.85</td>\n",
              "      <td>-0.03</td>\n",
              "      <td>3.28</td>\n",
              "      <td>...</td>\n",
              "      <td>10.86</td>\n",
              "      <td>-3.23</td>\n",
              "      <td>-5.10</td>\n",
              "      <td>-4.61</td>\n",
              "      <td>-9.82</td>\n",
              "      <td>-1.50</td>\n",
              "      <td>-4.65</td>\n",
              "      <td>-14.55</td>\n",
              "      <td>-6.41</td>\n",
              "      <td>-2.55</td>\n",
              "    </tr>\n",
              "    <tr>\n",
              "      <th>5086</th>\n",
              "      <td>1</td>\n",
              "      <td>323.28</td>\n",
              "      <td>306.36</td>\n",
              "      <td>293.16</td>\n",
              "      <td>287.67</td>\n",
              "      <td>249.89</td>\n",
              "      <td>218.30</td>\n",
              "      <td>188.86</td>\n",
              "      <td>178.93</td>\n",
              "      <td>118.93</td>\n",
              "      <td>...</td>\n",
              "      <td>71.19</td>\n",
              "      <td>0.97</td>\n",
              "      <td>55.20</td>\n",
              "      <td>-1.63</td>\n",
              "      <td>-5.50</td>\n",
              "      <td>-25.33</td>\n",
              "      <td>-41.31</td>\n",
              "      <td>-16.72</td>\n",
              "      <td>-14.09</td>\n",
              "      <td>27.82</td>\n",
              "    </tr>\n",
              "  </tbody>\n",
              "</table>\n",
              "<p>5087 rows × 3198 columns</p>\n",
              "</div>\n",
              "      <button class=\"colab-df-convert\" onclick=\"convertToInteractive('df-0872254c-e24d-4e30-be2f-5bc24c83188a')\"\n",
              "              title=\"Convert this dataframe to an interactive table.\"\n",
              "              style=\"display:none;\">\n",
              "        \n",
              "  <svg xmlns=\"http://www.w3.org/2000/svg\" height=\"24px\"viewBox=\"0 0 24 24\"\n",
              "       width=\"24px\">\n",
              "    <path d=\"M0 0h24v24H0V0z\" fill=\"none\"/>\n",
              "    <path d=\"M18.56 5.44l.94 2.06.94-2.06 2.06-.94-2.06-.94-.94-2.06-.94 2.06-2.06.94zm-11 1L8.5 8.5l.94-2.06 2.06-.94-2.06-.94L8.5 2.5l-.94 2.06-2.06.94zm10 10l.94 2.06.94-2.06 2.06-.94-2.06-.94-.94-2.06-.94 2.06-2.06.94z\"/><path d=\"M17.41 7.96l-1.37-1.37c-.4-.4-.92-.59-1.43-.59-.52 0-1.04.2-1.43.59L10.3 9.45l-7.72 7.72c-.78.78-.78 2.05 0 2.83L4 21.41c.39.39.9.59 1.41.59.51 0 1.02-.2 1.41-.59l7.78-7.78 2.81-2.81c.8-.78.8-2.07 0-2.86zM5.41 20L4 18.59l7.72-7.72 1.47 1.35L5.41 20z\"/>\n",
              "  </svg>\n",
              "      </button>\n",
              "      \n",
              "  <style>\n",
              "    .colab-df-container {\n",
              "      display:flex;\n",
              "      flex-wrap:wrap;\n",
              "      gap: 12px;\n",
              "    }\n",
              "\n",
              "    .colab-df-convert {\n",
              "      background-color: #E8F0FE;\n",
              "      border: none;\n",
              "      border-radius: 50%;\n",
              "      cursor: pointer;\n",
              "      display: none;\n",
              "      fill: #1967D2;\n",
              "      height: 32px;\n",
              "      padding: 0 0 0 0;\n",
              "      width: 32px;\n",
              "    }\n",
              "\n",
              "    .colab-df-convert:hover {\n",
              "      background-color: #E2EBFA;\n",
              "      box-shadow: 0px 1px 2px rgba(60, 64, 67, 0.3), 0px 1px 3px 1px rgba(60, 64, 67, 0.15);\n",
              "      fill: #174EA6;\n",
              "    }\n",
              "\n",
              "    [theme=dark] .colab-df-convert {\n",
              "      background-color: #3B4455;\n",
              "      fill: #D2E3FC;\n",
              "    }\n",
              "\n",
              "    [theme=dark] .colab-df-convert:hover {\n",
              "      background-color: #434B5C;\n",
              "      box-shadow: 0px 1px 3px 1px rgba(0, 0, 0, 0.15);\n",
              "      filter: drop-shadow(0px 1px 2px rgba(0, 0, 0, 0.3));\n",
              "      fill: #FFFFFF;\n",
              "    }\n",
              "  </style>\n",
              "\n",
              "      <script>\n",
              "        const buttonEl =\n",
              "          document.querySelector('#df-0872254c-e24d-4e30-be2f-5bc24c83188a button.colab-df-convert');\n",
              "        buttonEl.style.display =\n",
              "          google.colab.kernel.accessAllowed ? 'block' : 'none';\n",
              "\n",
              "        async function convertToInteractive(key) {\n",
              "          const element = document.querySelector('#df-0872254c-e24d-4e30-be2f-5bc24c83188a');\n",
              "          const dataTable =\n",
              "            await google.colab.kernel.invokeFunction('convertToInteractive',\n",
              "                                                     [key], {});\n",
              "          if (!dataTable) return;\n",
              "\n",
              "          const docLinkHtml = 'Like what you see? Visit the ' +\n",
              "            '<a target=\"_blank\" href=https://colab.research.google.com/notebooks/data_table.ipynb>data table notebook</a>'\n",
              "            + ' to learn more about interactive tables.';\n",
              "          element.innerHTML = '';\n",
              "          dataTable['output_type'] = 'display_data';\n",
              "          await google.colab.output.renderOutput(dataTable, element);\n",
              "          const docLink = document.createElement('div');\n",
              "          docLink.innerHTML = docLinkHtml;\n",
              "          element.appendChild(docLink);\n",
              "        }\n",
              "      </script>\n",
              "    </div>\n",
              "  </div>\n",
              "  "
            ]
          },
          "metadata": {},
          "execution_count": 2
        }
      ]
    },
    {
      "cell_type": "markdown",
      "metadata": {
        "id": "ZYateb4XmI6H"
      },
      "source": [
        "Check the number of rows and columns in the DataFrames."
      ]
    },
    {
      "cell_type": "code",
      "metadata": {
        "id": "9aGcwb3Ax10u",
        "colab": {
          "base_uri": "https://localhost:8080/"
        },
        "outputId": "db105300-5906-4c4c-e41a-cc9fcf43176f"
      },
      "source": [
        "# Number of rows and columns in the DataFrames.\n",
        "print(exo_train_df.shape)\n",
        "exo_test_df.shape"
      ],
      "execution_count": null,
      "outputs": [
        {
          "output_type": "stream",
          "name": "stdout",
          "text": [
            "(5087, 3198)\n"
          ]
        },
        {
          "output_type": "execute_result",
          "data": {
            "text/plain": [
              "(570, 3198)"
            ]
          },
          "metadata": {},
          "execution_count": 3
        }
      ]
    },
    {
      "cell_type": "markdown",
      "metadata": {
        "id": "ob_UHtcNaE-s"
      },
      "source": [
        "---"
      ]
    },
    {
      "cell_type": "markdown",
      "metadata": {
        "id": "VcKiuR0gIvqi"
      },
      "source": [
        "#### The `value_counts()` Function\n",
        "\n",
        "To compute how many times a value occurs in a series, use the `value_counts()` function."
      ]
    },
    {
      "cell_type": "code",
      "metadata": {
        "id": "GG6oVSvRK6Jh",
        "colab": {
          "base_uri": "https://localhost:8080/"
        },
        "outputId": "4609bc52-4412-45a0-cd47-f9febbdd9039"
      },
      "source": [
        "# The number of times a value occurs in a Pandas series.\n",
        "exo_test_df['LABEL'].value_counts()"
      ],
      "execution_count": null,
      "outputs": [
        {
          "output_type": "execute_result",
          "data": {
            "text/plain": [
              "1    565\n",
              "2      5\n",
              "Name: LABEL, dtype: int64"
            ]
          },
          "metadata": {},
          "execution_count": 4
        }
      ]
    },
    {
      "cell_type": "markdown",
      "metadata": {
        "id": "8l7BTsS7LNLE"
      },
      "source": [
        "There are `565` stars which are classified as `1` and `5` stars classified as `2`. This means that only `5` stars have a planet.\n"
      ]
    },
    {
      "cell_type": "markdown",
      "metadata": {
        "id": "nmlkMPBed0wi"
      },
      "source": [
        "---"
      ]
    },
    {
      "cell_type": "markdown",
      "metadata": {
        "id": "F3PeA6-AaO5J"
      },
      "source": [
        "#### Importing `RandomForestClassifier` Module\n",
        "We need to import a module called `RandomForestClassifier` from a package called `sklearn.ensemble`. The `sklearn` or **scikit-learn** is a collection of many machine learning modules. Almost every machine learning algorithm can be directly applied without a knowledge of math using the **scikit-learn** library. It is kind of a plug-and-play device."
      ]
    },
    {
      "cell_type": "code",
      "metadata": {
        "id": "bjyPky3Hh0fu"
      },
      "source": [
        "# Import the 'RandomForestClassifier' module from the 'sklearn.ensemble' library.\n",
        "from sklearn.ensemble import RandomForestClassifier"
      ],
      "execution_count": null,
      "outputs": []
    },
    {
      "cell_type": "markdown",
      "metadata": {
        "id": "f8FljiKddvz9"
      },
      "source": [
        "---"
      ]
    },
    {
      "cell_type": "markdown",
      "metadata": {
        "id": "lP_x1sHBbWce"
      },
      "source": [
        "#### The Target & Feature Variables Separation\n",
        "\n",
        "The `RandomForestClassifier` module has a function called `fit()` which takes two inputs. The first input is the collection of feature variables. The second input is the target variable. Hence, we need to extract the target variable and the feature variables separately from the training dataset.\n",
        "\n",
        "Let's store the feature variables in the `x_train` variable and the target variable in the `y_train`."
      ]
    },
    {
      "cell_type": "code",
      "metadata": {
        "id": "-4xbNQzYj_CM",
        "colab": {
          "base_uri": "https://localhost:8080/",
          "height": 299
        },
        "outputId": "af65eb30-f5fb-4293-a8fb-28a68b189e93"
      },
      "source": [
        "# Extract feature variables from the training dataset.\n",
        "x_train = exo_train_df.iloc[:, 1:]\n",
        "x_train.head()"
      ],
      "execution_count": null,
      "outputs": [
        {
          "output_type": "execute_result",
          "data": {
            "text/plain": [
              "    FLUX.1   FLUX.2   FLUX.3   FLUX.4   FLUX.5   FLUX.6  FLUX.7   FLUX.8  \\\n",
              "0    93.85    83.81    20.10   -26.98   -39.56  -124.71 -135.18   -96.27   \n",
              "1   -38.88   -33.83   -58.54   -40.09   -79.31   -72.81  -86.55   -85.33   \n",
              "2   532.64   535.92   513.73   496.92   456.45   466.00  464.50   486.39   \n",
              "3   326.52   347.39   302.35   298.13   317.74   312.70  322.33   311.31   \n",
              "4 -1107.21 -1112.59 -1118.95 -1095.10 -1057.55 -1034.48 -998.34 -1022.71   \n",
              "\n",
              "   FLUX.9  FLUX.10  ...  FLUX.3188  FLUX.3189  FLUX.3190  FLUX.3191  \\\n",
              "0  -79.89  -160.17  ...     -78.07    -102.15    -102.15      25.13   \n",
              "1  -83.97   -73.38  ...      -3.28     -32.21     -32.21     -24.89   \n",
              "2  436.56   484.39  ...     -71.69      13.31      13.31     -29.89   \n",
              "3  312.42   323.33  ...       5.71      -3.73      -3.73      30.05   \n",
              "4 -989.57  -970.88  ...    -594.37    -401.66    -401.66    -357.24   \n",
              "\n",
              "   FLUX.3192  FLUX.3193  FLUX.3194  FLUX.3195  FLUX.3196  FLUX.3197  \n",
              "0      48.57      92.54      39.32      61.42       5.08     -39.54  \n",
              "1      -4.86       0.76     -11.70       6.46      16.00      19.93  \n",
              "2     -20.88       5.06     -11.80     -28.91     -70.02     -96.67  \n",
              "3      20.03     -12.67      -8.77     -17.31     -17.35      13.98  \n",
              "4    -443.76    -438.54    -399.71    -384.65    -411.79    -510.54  \n",
              "\n",
              "[5 rows x 3197 columns]"
            ],
            "text/html": [
              "\n",
              "  <div id=\"df-6b44d1ca-3e77-4a9c-8fee-708ce084f0c6\">\n",
              "    <div class=\"colab-df-container\">\n",
              "      <div>\n",
              "<style scoped>\n",
              "    .dataframe tbody tr th:only-of-type {\n",
              "        vertical-align: middle;\n",
              "    }\n",
              "\n",
              "    .dataframe tbody tr th {\n",
              "        vertical-align: top;\n",
              "    }\n",
              "\n",
              "    .dataframe thead th {\n",
              "        text-align: right;\n",
              "    }\n",
              "</style>\n",
              "<table border=\"1\" class=\"dataframe\">\n",
              "  <thead>\n",
              "    <tr style=\"text-align: right;\">\n",
              "      <th></th>\n",
              "      <th>FLUX.1</th>\n",
              "      <th>FLUX.2</th>\n",
              "      <th>FLUX.3</th>\n",
              "      <th>FLUX.4</th>\n",
              "      <th>FLUX.5</th>\n",
              "      <th>FLUX.6</th>\n",
              "      <th>FLUX.7</th>\n",
              "      <th>FLUX.8</th>\n",
              "      <th>FLUX.9</th>\n",
              "      <th>FLUX.10</th>\n",
              "      <th>...</th>\n",
              "      <th>FLUX.3188</th>\n",
              "      <th>FLUX.3189</th>\n",
              "      <th>FLUX.3190</th>\n",
              "      <th>FLUX.3191</th>\n",
              "      <th>FLUX.3192</th>\n",
              "      <th>FLUX.3193</th>\n",
              "      <th>FLUX.3194</th>\n",
              "      <th>FLUX.3195</th>\n",
              "      <th>FLUX.3196</th>\n",
              "      <th>FLUX.3197</th>\n",
              "    </tr>\n",
              "  </thead>\n",
              "  <tbody>\n",
              "    <tr>\n",
              "      <th>0</th>\n",
              "      <td>93.85</td>\n",
              "      <td>83.81</td>\n",
              "      <td>20.10</td>\n",
              "      <td>-26.98</td>\n",
              "      <td>-39.56</td>\n",
              "      <td>-124.71</td>\n",
              "      <td>-135.18</td>\n",
              "      <td>-96.27</td>\n",
              "      <td>-79.89</td>\n",
              "      <td>-160.17</td>\n",
              "      <td>...</td>\n",
              "      <td>-78.07</td>\n",
              "      <td>-102.15</td>\n",
              "      <td>-102.15</td>\n",
              "      <td>25.13</td>\n",
              "      <td>48.57</td>\n",
              "      <td>92.54</td>\n",
              "      <td>39.32</td>\n",
              "      <td>61.42</td>\n",
              "      <td>5.08</td>\n",
              "      <td>-39.54</td>\n",
              "    </tr>\n",
              "    <tr>\n",
              "      <th>1</th>\n",
              "      <td>-38.88</td>\n",
              "      <td>-33.83</td>\n",
              "      <td>-58.54</td>\n",
              "      <td>-40.09</td>\n",
              "      <td>-79.31</td>\n",
              "      <td>-72.81</td>\n",
              "      <td>-86.55</td>\n",
              "      <td>-85.33</td>\n",
              "      <td>-83.97</td>\n",
              "      <td>-73.38</td>\n",
              "      <td>...</td>\n",
              "      <td>-3.28</td>\n",
              "      <td>-32.21</td>\n",
              "      <td>-32.21</td>\n",
              "      <td>-24.89</td>\n",
              "      <td>-4.86</td>\n",
              "      <td>0.76</td>\n",
              "      <td>-11.70</td>\n",
              "      <td>6.46</td>\n",
              "      <td>16.00</td>\n",
              "      <td>19.93</td>\n",
              "    </tr>\n",
              "    <tr>\n",
              "      <th>2</th>\n",
              "      <td>532.64</td>\n",
              "      <td>535.92</td>\n",
              "      <td>513.73</td>\n",
              "      <td>496.92</td>\n",
              "      <td>456.45</td>\n",
              "      <td>466.00</td>\n",
              "      <td>464.50</td>\n",
              "      <td>486.39</td>\n",
              "      <td>436.56</td>\n",
              "      <td>484.39</td>\n",
              "      <td>...</td>\n",
              "      <td>-71.69</td>\n",
              "      <td>13.31</td>\n",
              "      <td>13.31</td>\n",
              "      <td>-29.89</td>\n",
              "      <td>-20.88</td>\n",
              "      <td>5.06</td>\n",
              "      <td>-11.80</td>\n",
              "      <td>-28.91</td>\n",
              "      <td>-70.02</td>\n",
              "      <td>-96.67</td>\n",
              "    </tr>\n",
              "    <tr>\n",
              "      <th>3</th>\n",
              "      <td>326.52</td>\n",
              "      <td>347.39</td>\n",
              "      <td>302.35</td>\n",
              "      <td>298.13</td>\n",
              "      <td>317.74</td>\n",
              "      <td>312.70</td>\n",
              "      <td>322.33</td>\n",
              "      <td>311.31</td>\n",
              "      <td>312.42</td>\n",
              "      <td>323.33</td>\n",
              "      <td>...</td>\n",
              "      <td>5.71</td>\n",
              "      <td>-3.73</td>\n",
              "      <td>-3.73</td>\n",
              "      <td>30.05</td>\n",
              "      <td>20.03</td>\n",
              "      <td>-12.67</td>\n",
              "      <td>-8.77</td>\n",
              "      <td>-17.31</td>\n",
              "      <td>-17.35</td>\n",
              "      <td>13.98</td>\n",
              "    </tr>\n",
              "    <tr>\n",
              "      <th>4</th>\n",
              "      <td>-1107.21</td>\n",
              "      <td>-1112.59</td>\n",
              "      <td>-1118.95</td>\n",
              "      <td>-1095.10</td>\n",
              "      <td>-1057.55</td>\n",
              "      <td>-1034.48</td>\n",
              "      <td>-998.34</td>\n",
              "      <td>-1022.71</td>\n",
              "      <td>-989.57</td>\n",
              "      <td>-970.88</td>\n",
              "      <td>...</td>\n",
              "      <td>-594.37</td>\n",
              "      <td>-401.66</td>\n",
              "      <td>-401.66</td>\n",
              "      <td>-357.24</td>\n",
              "      <td>-443.76</td>\n",
              "      <td>-438.54</td>\n",
              "      <td>-399.71</td>\n",
              "      <td>-384.65</td>\n",
              "      <td>-411.79</td>\n",
              "      <td>-510.54</td>\n",
              "    </tr>\n",
              "  </tbody>\n",
              "</table>\n",
              "<p>5 rows × 3197 columns</p>\n",
              "</div>\n",
              "      <button class=\"colab-df-convert\" onclick=\"convertToInteractive('df-6b44d1ca-3e77-4a9c-8fee-708ce084f0c6')\"\n",
              "              title=\"Convert this dataframe to an interactive table.\"\n",
              "              style=\"display:none;\">\n",
              "        \n",
              "  <svg xmlns=\"http://www.w3.org/2000/svg\" height=\"24px\"viewBox=\"0 0 24 24\"\n",
              "       width=\"24px\">\n",
              "    <path d=\"M0 0h24v24H0V0z\" fill=\"none\"/>\n",
              "    <path d=\"M18.56 5.44l.94 2.06.94-2.06 2.06-.94-2.06-.94-.94-2.06-.94 2.06-2.06.94zm-11 1L8.5 8.5l.94-2.06 2.06-.94-2.06-.94L8.5 2.5l-.94 2.06-2.06.94zm10 10l.94 2.06.94-2.06 2.06-.94-2.06-.94-.94-2.06-.94 2.06-2.06.94z\"/><path d=\"M17.41 7.96l-1.37-1.37c-.4-.4-.92-.59-1.43-.59-.52 0-1.04.2-1.43.59L10.3 9.45l-7.72 7.72c-.78.78-.78 2.05 0 2.83L4 21.41c.39.39.9.59 1.41.59.51 0 1.02-.2 1.41-.59l7.78-7.78 2.81-2.81c.8-.78.8-2.07 0-2.86zM5.41 20L4 18.59l7.72-7.72 1.47 1.35L5.41 20z\"/>\n",
              "  </svg>\n",
              "      </button>\n",
              "      \n",
              "  <style>\n",
              "    .colab-df-container {\n",
              "      display:flex;\n",
              "      flex-wrap:wrap;\n",
              "      gap: 12px;\n",
              "    }\n",
              "\n",
              "    .colab-df-convert {\n",
              "      background-color: #E8F0FE;\n",
              "      border: none;\n",
              "      border-radius: 50%;\n",
              "      cursor: pointer;\n",
              "      display: none;\n",
              "      fill: #1967D2;\n",
              "      height: 32px;\n",
              "      padding: 0 0 0 0;\n",
              "      width: 32px;\n",
              "    }\n",
              "\n",
              "    .colab-df-convert:hover {\n",
              "      background-color: #E2EBFA;\n",
              "      box-shadow: 0px 1px 2px rgba(60, 64, 67, 0.3), 0px 1px 3px 1px rgba(60, 64, 67, 0.15);\n",
              "      fill: #174EA6;\n",
              "    }\n",
              "\n",
              "    [theme=dark] .colab-df-convert {\n",
              "      background-color: #3B4455;\n",
              "      fill: #D2E3FC;\n",
              "    }\n",
              "\n",
              "    [theme=dark] .colab-df-convert:hover {\n",
              "      background-color: #434B5C;\n",
              "      box-shadow: 0px 1px 3px 1px rgba(0, 0, 0, 0.15);\n",
              "      filter: drop-shadow(0px 1px 2px rgba(0, 0, 0, 0.3));\n",
              "      fill: #FFFFFF;\n",
              "    }\n",
              "  </style>\n",
              "\n",
              "      <script>\n",
              "        const buttonEl =\n",
              "          document.querySelector('#df-6b44d1ca-3e77-4a9c-8fee-708ce084f0c6 button.colab-df-convert');\n",
              "        buttonEl.style.display =\n",
              "          google.colab.kernel.accessAllowed ? 'block' : 'none';\n",
              "\n",
              "        async function convertToInteractive(key) {\n",
              "          const element = document.querySelector('#df-6b44d1ca-3e77-4a9c-8fee-708ce084f0c6');\n",
              "          const dataTable =\n",
              "            await google.colab.kernel.invokeFunction('convertToInteractive',\n",
              "                                                     [key], {});\n",
              "          if (!dataTable) return;\n",
              "\n",
              "          const docLinkHtml = 'Like what you see? Visit the ' +\n",
              "            '<a target=\"_blank\" href=https://colab.research.google.com/notebooks/data_table.ipynb>data table notebook</a>'\n",
              "            + ' to learn more about interactive tables.';\n",
              "          element.innerHTML = '';\n",
              "          dataTable['output_type'] = 'display_data';\n",
              "          await google.colab.output.renderOutput(dataTable, element);\n",
              "          const docLink = document.createElement('div');\n",
              "          docLink.innerHTML = docLinkHtml;\n",
              "          element.appendChild(docLink);\n",
              "        }\n",
              "      </script>\n",
              "    </div>\n",
              "  </div>\n",
              "  "
            ]
          },
          "metadata": {},
          "execution_count": 6
        }
      ]
    },
    {
      "cell_type": "code",
      "metadata": {
        "id": "Ow3bOVajkEos",
        "colab": {
          "base_uri": "https://localhost:8080/"
        },
        "outputId": "c6e391e6-7e89-43e1-c5ae-854cbe4194bc"
      },
      "source": [
        "# Retrieve only the first column, i.e., the 'LABEL' column.\n",
        "y_train = exo_train_df.iloc[:, 0] \n",
        "y_train.head()"
      ],
      "execution_count": null,
      "outputs": [
        {
          "output_type": "execute_result",
          "data": {
            "text/plain": [
              "0    2\n",
              "1    2\n",
              "2    2\n",
              "3    2\n",
              "4    2\n",
              "Name: LABEL, dtype: int64"
            ]
          },
          "metadata": {},
          "execution_count": 7
        }
      ]
    },
    {
      "cell_type": "markdown",
      "metadata": {
        "id": "t4c2YLzWdtiC"
      },
      "source": [
        "---"
      ]
    },
    {
      "cell_type": "markdown",
      "metadata": {
        "id": "CSKFSFb5gZge"
      },
      "source": [
        "#### Fitting The Model\n",
        "Let's train the model using the `fit()` function."
      ]
    },
    {
      "cell_type": "code",
      "metadata": {
        "id": "rAU1jEBVkHG1",
        "colab": {
          "base_uri": "https://localhost:8080/"
        },
        "outputId": "779c61c2-94de-4cb6-8750-982b28bdee8e"
      },
      "source": [
        "# Train the 'RandomForestClassifier' model using the 'fit()' function.\n",
        "rf_clf = RandomForestClassifier(n_jobs=-1, n_estimators=50)\n",
        "rf_clf.fit(x_train, y_train)\n",
        "\n",
        "rf_clf.score(x_train, y_train)"
      ],
      "execution_count": null,
      "outputs": [
        {
          "output_type": "execute_result",
          "data": {
            "text/plain": [
              "1.0"
            ]
          },
          "metadata": {},
          "execution_count": 8
        }
      ]
    },
    {
      "cell_type": "markdown",
      "metadata": {
        "id": "cKq3HlbxhU0k"
      },
      "source": [
        "As you can see, we have built the Random Forest Classifier model with 50 decision trees. The fitting accuracy score of the model is 100%.\n",
        "\n"
      ]
    },
    {
      "cell_type": "markdown",
      "metadata": {
        "id": "NV57P4UFh1rt"
      },
      "source": [
        "---"
      ]
    },
    {
      "cell_type": "markdown",
      "metadata": {
        "id": "DIi2Gikph5HQ"
      },
      "source": [
        "#### Target And Feature Variables From Test Dataset\n",
        "Now we need to make predictions on the test dataset. So, we just need to extract feature variables from the test dataset using the `iloc[]` function."
      ]
    },
    {
      "cell_type": "code",
      "metadata": {
        "id": "TN1nsa2qpr80",
        "colab": {
          "base_uri": "https://localhost:8080/",
          "height": 299
        },
        "outputId": "61354dad-4a1e-4bed-fcbf-dbad1e616ab0"
      },
      "source": [
        "# Extract the feature variables from the test dataset.\n",
        "x_test = exo_test_df.iloc[:, 1:]\n",
        "x_test.head()"
      ],
      "execution_count": null,
      "outputs": [
        {
          "output_type": "execute_result",
          "data": {
            "text/plain": [
              "    FLUX.1   FLUX.2   FLUX.3   FLUX.4   FLUX.5   FLUX.6   FLUX.7   FLUX.8  \\\n",
              "0   119.88   100.21    86.46    48.68    46.12    39.39    18.57     6.98   \n",
              "1  5736.59  5699.98  5717.16  5692.73  5663.83  5631.16  5626.39  5569.47   \n",
              "2   844.48   817.49   770.07   675.01   605.52   499.45   440.77   362.95   \n",
              "3  -826.00  -827.31  -846.12  -836.03  -745.50  -784.69  -791.22  -746.50   \n",
              "4   -39.57   -15.88    -9.16    -6.37   -16.13   -24.05    -0.90   -45.20   \n",
              "\n",
              "    FLUX.9  FLUX.10  ...  FLUX.3188  FLUX.3189  FLUX.3190  FLUX.3191  \\\n",
              "0     6.63   -21.97  ...      14.52      19.29      14.44      -1.62   \n",
              "1  5550.44  5458.80  ...    -581.91    -984.09   -1230.89   -1600.45   \n",
              "2   207.27   150.46  ...      17.82     -51.66     -48.29     -59.99   \n",
              "3  -709.53  -679.56  ...     122.34      93.03      93.03      68.81   \n",
              "4    -5.04    14.62  ...     -37.87     -61.85     -27.15     -21.18   \n",
              "\n",
              "   FLUX.3192  FLUX.3193  FLUX.3194  FLUX.3195  FLUX.3196  FLUX.3197  \n",
              "0      13.33      45.50      31.93      35.78     269.43      57.72  \n",
              "1   -1824.53   -2061.17   -2265.98   -2366.19   -2294.86   -2034.72  \n",
              "2     -82.10    -174.54     -95.23    -162.68     -36.79      30.63  \n",
              "3       9.81      20.75      20.25    -120.81    -257.56    -215.41  \n",
              "4     -33.76     -85.34     -81.46     -61.98     -69.34     -17.84  \n",
              "\n",
              "[5 rows x 3197 columns]"
            ],
            "text/html": [
              "\n",
              "  <div id=\"df-9e8a47d8-c71c-4860-947e-1c7fc8dec3f4\">\n",
              "    <div class=\"colab-df-container\">\n",
              "      <div>\n",
              "<style scoped>\n",
              "    .dataframe tbody tr th:only-of-type {\n",
              "        vertical-align: middle;\n",
              "    }\n",
              "\n",
              "    .dataframe tbody tr th {\n",
              "        vertical-align: top;\n",
              "    }\n",
              "\n",
              "    .dataframe thead th {\n",
              "        text-align: right;\n",
              "    }\n",
              "</style>\n",
              "<table border=\"1\" class=\"dataframe\">\n",
              "  <thead>\n",
              "    <tr style=\"text-align: right;\">\n",
              "      <th></th>\n",
              "      <th>FLUX.1</th>\n",
              "      <th>FLUX.2</th>\n",
              "      <th>FLUX.3</th>\n",
              "      <th>FLUX.4</th>\n",
              "      <th>FLUX.5</th>\n",
              "      <th>FLUX.6</th>\n",
              "      <th>FLUX.7</th>\n",
              "      <th>FLUX.8</th>\n",
              "      <th>FLUX.9</th>\n",
              "      <th>FLUX.10</th>\n",
              "      <th>...</th>\n",
              "      <th>FLUX.3188</th>\n",
              "      <th>FLUX.3189</th>\n",
              "      <th>FLUX.3190</th>\n",
              "      <th>FLUX.3191</th>\n",
              "      <th>FLUX.3192</th>\n",
              "      <th>FLUX.3193</th>\n",
              "      <th>FLUX.3194</th>\n",
              "      <th>FLUX.3195</th>\n",
              "      <th>FLUX.3196</th>\n",
              "      <th>FLUX.3197</th>\n",
              "    </tr>\n",
              "  </thead>\n",
              "  <tbody>\n",
              "    <tr>\n",
              "      <th>0</th>\n",
              "      <td>119.88</td>\n",
              "      <td>100.21</td>\n",
              "      <td>86.46</td>\n",
              "      <td>48.68</td>\n",
              "      <td>46.12</td>\n",
              "      <td>39.39</td>\n",
              "      <td>18.57</td>\n",
              "      <td>6.98</td>\n",
              "      <td>6.63</td>\n",
              "      <td>-21.97</td>\n",
              "      <td>...</td>\n",
              "      <td>14.52</td>\n",
              "      <td>19.29</td>\n",
              "      <td>14.44</td>\n",
              "      <td>-1.62</td>\n",
              "      <td>13.33</td>\n",
              "      <td>45.50</td>\n",
              "      <td>31.93</td>\n",
              "      <td>35.78</td>\n",
              "      <td>269.43</td>\n",
              "      <td>57.72</td>\n",
              "    </tr>\n",
              "    <tr>\n",
              "      <th>1</th>\n",
              "      <td>5736.59</td>\n",
              "      <td>5699.98</td>\n",
              "      <td>5717.16</td>\n",
              "      <td>5692.73</td>\n",
              "      <td>5663.83</td>\n",
              "      <td>5631.16</td>\n",
              "      <td>5626.39</td>\n",
              "      <td>5569.47</td>\n",
              "      <td>5550.44</td>\n",
              "      <td>5458.80</td>\n",
              "      <td>...</td>\n",
              "      <td>-581.91</td>\n",
              "      <td>-984.09</td>\n",
              "      <td>-1230.89</td>\n",
              "      <td>-1600.45</td>\n",
              "      <td>-1824.53</td>\n",
              "      <td>-2061.17</td>\n",
              "      <td>-2265.98</td>\n",
              "      <td>-2366.19</td>\n",
              "      <td>-2294.86</td>\n",
              "      <td>-2034.72</td>\n",
              "    </tr>\n",
              "    <tr>\n",
              "      <th>2</th>\n",
              "      <td>844.48</td>\n",
              "      <td>817.49</td>\n",
              "      <td>770.07</td>\n",
              "      <td>675.01</td>\n",
              "      <td>605.52</td>\n",
              "      <td>499.45</td>\n",
              "      <td>440.77</td>\n",
              "      <td>362.95</td>\n",
              "      <td>207.27</td>\n",
              "      <td>150.46</td>\n",
              "      <td>...</td>\n",
              "      <td>17.82</td>\n",
              "      <td>-51.66</td>\n",
              "      <td>-48.29</td>\n",
              "      <td>-59.99</td>\n",
              "      <td>-82.10</td>\n",
              "      <td>-174.54</td>\n",
              "      <td>-95.23</td>\n",
              "      <td>-162.68</td>\n",
              "      <td>-36.79</td>\n",
              "      <td>30.63</td>\n",
              "    </tr>\n",
              "    <tr>\n",
              "      <th>3</th>\n",
              "      <td>-826.00</td>\n",
              "      <td>-827.31</td>\n",
              "      <td>-846.12</td>\n",
              "      <td>-836.03</td>\n",
              "      <td>-745.50</td>\n",
              "      <td>-784.69</td>\n",
              "      <td>-791.22</td>\n",
              "      <td>-746.50</td>\n",
              "      <td>-709.53</td>\n",
              "      <td>-679.56</td>\n",
              "      <td>...</td>\n",
              "      <td>122.34</td>\n",
              "      <td>93.03</td>\n",
              "      <td>93.03</td>\n",
              "      <td>68.81</td>\n",
              "      <td>9.81</td>\n",
              "      <td>20.75</td>\n",
              "      <td>20.25</td>\n",
              "      <td>-120.81</td>\n",
              "      <td>-257.56</td>\n",
              "      <td>-215.41</td>\n",
              "    </tr>\n",
              "    <tr>\n",
              "      <th>4</th>\n",
              "      <td>-39.57</td>\n",
              "      <td>-15.88</td>\n",
              "      <td>-9.16</td>\n",
              "      <td>-6.37</td>\n",
              "      <td>-16.13</td>\n",
              "      <td>-24.05</td>\n",
              "      <td>-0.90</td>\n",
              "      <td>-45.20</td>\n",
              "      <td>-5.04</td>\n",
              "      <td>14.62</td>\n",
              "      <td>...</td>\n",
              "      <td>-37.87</td>\n",
              "      <td>-61.85</td>\n",
              "      <td>-27.15</td>\n",
              "      <td>-21.18</td>\n",
              "      <td>-33.76</td>\n",
              "      <td>-85.34</td>\n",
              "      <td>-81.46</td>\n",
              "      <td>-61.98</td>\n",
              "      <td>-69.34</td>\n",
              "      <td>-17.84</td>\n",
              "    </tr>\n",
              "  </tbody>\n",
              "</table>\n",
              "<p>5 rows × 3197 columns</p>\n",
              "</div>\n",
              "      <button class=\"colab-df-convert\" onclick=\"convertToInteractive('df-9e8a47d8-c71c-4860-947e-1c7fc8dec3f4')\"\n",
              "              title=\"Convert this dataframe to an interactive table.\"\n",
              "              style=\"display:none;\">\n",
              "        \n",
              "  <svg xmlns=\"http://www.w3.org/2000/svg\" height=\"24px\"viewBox=\"0 0 24 24\"\n",
              "       width=\"24px\">\n",
              "    <path d=\"M0 0h24v24H0V0z\" fill=\"none\"/>\n",
              "    <path d=\"M18.56 5.44l.94 2.06.94-2.06 2.06-.94-2.06-.94-.94-2.06-.94 2.06-2.06.94zm-11 1L8.5 8.5l.94-2.06 2.06-.94-2.06-.94L8.5 2.5l-.94 2.06-2.06.94zm10 10l.94 2.06.94-2.06 2.06-.94-2.06-.94-.94-2.06-.94 2.06-2.06.94z\"/><path d=\"M17.41 7.96l-1.37-1.37c-.4-.4-.92-.59-1.43-.59-.52 0-1.04.2-1.43.59L10.3 9.45l-7.72 7.72c-.78.78-.78 2.05 0 2.83L4 21.41c.39.39.9.59 1.41.59.51 0 1.02-.2 1.41-.59l7.78-7.78 2.81-2.81c.8-.78.8-2.07 0-2.86zM5.41 20L4 18.59l7.72-7.72 1.47 1.35L5.41 20z\"/>\n",
              "  </svg>\n",
              "      </button>\n",
              "      \n",
              "  <style>\n",
              "    .colab-df-container {\n",
              "      display:flex;\n",
              "      flex-wrap:wrap;\n",
              "      gap: 12px;\n",
              "    }\n",
              "\n",
              "    .colab-df-convert {\n",
              "      background-color: #E8F0FE;\n",
              "      border: none;\n",
              "      border-radius: 50%;\n",
              "      cursor: pointer;\n",
              "      display: none;\n",
              "      fill: #1967D2;\n",
              "      height: 32px;\n",
              "      padding: 0 0 0 0;\n",
              "      width: 32px;\n",
              "    }\n",
              "\n",
              "    .colab-df-convert:hover {\n",
              "      background-color: #E2EBFA;\n",
              "      box-shadow: 0px 1px 2px rgba(60, 64, 67, 0.3), 0px 1px 3px 1px rgba(60, 64, 67, 0.15);\n",
              "      fill: #174EA6;\n",
              "    }\n",
              "\n",
              "    [theme=dark] .colab-df-convert {\n",
              "      background-color: #3B4455;\n",
              "      fill: #D2E3FC;\n",
              "    }\n",
              "\n",
              "    [theme=dark] .colab-df-convert:hover {\n",
              "      background-color: #434B5C;\n",
              "      box-shadow: 0px 1px 3px 1px rgba(0, 0, 0, 0.15);\n",
              "      filter: drop-shadow(0px 1px 2px rgba(0, 0, 0, 0.3));\n",
              "      fill: #FFFFFF;\n",
              "    }\n",
              "  </style>\n",
              "\n",
              "      <script>\n",
              "        const buttonEl =\n",
              "          document.querySelector('#df-9e8a47d8-c71c-4860-947e-1c7fc8dec3f4 button.colab-df-convert');\n",
              "        buttonEl.style.display =\n",
              "          google.colab.kernel.accessAllowed ? 'block' : 'none';\n",
              "\n",
              "        async function convertToInteractive(key) {\n",
              "          const element = document.querySelector('#df-9e8a47d8-c71c-4860-947e-1c7fc8dec3f4');\n",
              "          const dataTable =\n",
              "            await google.colab.kernel.invokeFunction('convertToInteractive',\n",
              "                                                     [key], {});\n",
              "          if (!dataTable) return;\n",
              "\n",
              "          const docLinkHtml = 'Like what you see? Visit the ' +\n",
              "            '<a target=\"_blank\" href=https://colab.research.google.com/notebooks/data_table.ipynb>data table notebook</a>'\n",
              "            + ' to learn more about interactive tables.';\n",
              "          element.innerHTML = '';\n",
              "          dataTable['output_type'] = 'display_data';\n",
              "          await google.colab.output.renderOutput(dataTable, element);\n",
              "          const docLink = document.createElement('div');\n",
              "          docLink.innerHTML = docLinkHtml;\n",
              "          element.appendChild(docLink);\n",
              "        }\n",
              "      </script>\n",
              "    </div>\n",
              "  </div>\n",
              "  "
            ]
          },
          "metadata": {},
          "execution_count": 9
        }
      ]
    },
    {
      "cell_type": "markdown",
      "metadata": {
        "id": "ZsZe8fyeiXBG"
      },
      "source": [
        "Let's also extract the target variable from the test dataset so that we can compare the actual target values with the predicted values later."
      ]
    },
    {
      "cell_type": "code",
      "metadata": {
        "id": "wVMq86Y5p5ol",
        "colab": {
          "base_uri": "https://localhost:8080/"
        },
        "outputId": "46403f49-dcf9-4653-f78e-d3072bc7c420"
      },
      "source": [
        "# Extract the target variable from the test dataset.\n",
        "y_test = exo_test_df.iloc[:, 0]\n",
        "y_test.head()"
      ],
      "execution_count": null,
      "outputs": [
        {
          "output_type": "execute_result",
          "data": {
            "text/plain": [
              "0    2\n",
              "1    2\n",
              "2    2\n",
              "3    2\n",
              "4    2\n",
              "Name: LABEL, dtype: int64"
            ]
          },
          "metadata": {},
          "execution_count": 10
        }
      ]
    },
    {
      "cell_type": "markdown",
      "metadata": {
        "id": "5f3OVTo4ioQk"
      },
      "source": [
        "---"
      ]
    },
    {
      "cell_type": "markdown",
      "metadata": {
        "id": "Xz8BPprpipOq"
      },
      "source": [
        "#### The `predict()` Function\n",
        "Now, let's make predictions on the test dataset by calling the `predict()` function with the features variables of the test dataset as an input."
      ]
    },
    {
      "cell_type": "code",
      "metadata": {
        "id": "VF_lb5Fcp8zd",
        "colab": {
          "base_uri": "https://localhost:8080/"
        },
        "outputId": "58b89dfd-3eb2-4fb6-c552-c9debe80a022"
      },
      "source": [
        "# Make predictions using the 'predict()' function.\n",
        "y_predicted = rf_clf.predict(x_test)\n",
        "y_predicted"
      ],
      "execution_count": null,
      "outputs": [
        {
          "output_type": "execute_result",
          "data": {
            "text/plain": [
              "array([1, 1, 1, 1, 1, 1, 1, 1, 1, 1, 1, 1, 1, 1, 1, 1, 1, 1, 1, 1, 1, 1,\n",
              "       1, 1, 1, 1, 1, 1, 1, 1, 1, 1, 1, 1, 1, 1, 1, 1, 1, 1, 1, 1, 1, 1,\n",
              "       1, 1, 1, 1, 1, 1, 1, 1, 1, 1, 1, 1, 1, 1, 1, 1, 1, 1, 1, 1, 1, 1,\n",
              "       1, 1, 1, 1, 1, 1, 1, 1, 1, 1, 1, 1, 1, 1, 1, 1, 1, 1, 1, 1, 1, 1,\n",
              "       1, 1, 1, 1, 1, 1, 1, 1, 1, 1, 1, 1, 1, 1, 1, 1, 1, 1, 1, 1, 1, 1,\n",
              "       1, 1, 1, 1, 1, 1, 1, 1, 1, 1, 1, 1, 1, 1, 1, 1, 1, 1, 1, 1, 1, 1,\n",
              "       1, 1, 1, 1, 1, 1, 1, 1, 1, 1, 1, 1, 1, 1, 1, 1, 1, 1, 1, 1, 1, 1,\n",
              "       1, 1, 1, 1, 1, 1, 1, 1, 1, 1, 1, 1, 1, 1, 1, 1, 1, 1, 1, 1, 1, 1,\n",
              "       1, 1, 1, 1, 1, 1, 1, 1, 1, 1, 1, 1, 1, 1, 1, 1, 1, 1, 1, 1, 1, 1,\n",
              "       1, 1, 1, 1, 1, 1, 1, 1, 1, 1, 1, 1, 1, 1, 1, 1, 1, 1, 1, 1, 1, 1,\n",
              "       1, 1, 1, 1, 1, 1, 1, 1, 1, 1, 1, 1, 1, 1, 1, 1, 1, 1, 1, 1, 1, 1,\n",
              "       1, 1, 1, 1, 1, 1, 1, 1, 1, 1, 1, 1, 1, 1, 1, 1, 1, 1, 1, 1, 1, 1,\n",
              "       1, 1, 1, 1, 1, 1, 1, 1, 1, 1, 1, 1, 1, 1, 1, 1, 1, 1, 1, 1, 1, 1,\n",
              "       1, 1, 1, 1, 1, 1, 1, 1, 1, 1, 1, 1, 1, 1, 1, 1, 1, 1, 1, 1, 1, 1,\n",
              "       1, 1, 1, 1, 1, 1, 1, 1, 1, 1, 1, 1, 1, 1, 1, 1, 1, 1, 1, 1, 1, 1,\n",
              "       1, 1, 1, 1, 1, 1, 1, 1, 1, 1, 1, 1, 1, 1, 1, 1, 1, 1, 1, 1, 1, 1,\n",
              "       1, 1, 1, 1, 1, 1, 1, 1, 1, 1, 1, 1, 1, 1, 1, 1, 1, 1, 1, 1, 1, 1,\n",
              "       1, 1, 1, 1, 1, 1, 1, 1, 1, 1, 1, 1, 1, 1, 1, 1, 1, 1, 1, 1, 1, 1,\n",
              "       1, 1, 1, 1, 1, 1, 1, 1, 1, 1, 1, 1, 1, 1, 1, 1, 1, 1, 1, 1, 1, 1,\n",
              "       1, 1, 1, 1, 1, 1, 1, 1, 1, 1, 1, 1, 1, 1, 1, 1, 1, 1, 1, 1, 1, 1,\n",
              "       1, 1, 1, 1, 1, 1, 1, 1, 1, 1, 1, 1, 1, 1, 1, 1, 1, 1, 1, 1, 1, 1,\n",
              "       1, 1, 1, 1, 1, 1, 1, 1, 1, 1, 1, 1, 1, 1, 1, 1, 1, 1, 1, 1, 1, 1,\n",
              "       1, 1, 1, 1, 1, 1, 1, 1, 1, 1, 1, 1, 1, 1, 1, 1, 1, 1, 1, 1, 1, 1,\n",
              "       1, 1, 1, 1, 1, 1, 1, 1, 1, 1, 1, 1, 1, 1, 1, 1, 1, 1, 1, 1, 1, 1,\n",
              "       1, 1, 1, 1, 1, 1, 1, 1, 1, 1, 1, 1, 1, 1, 1, 1, 1, 1, 1, 1, 1, 1,\n",
              "       1, 1, 1, 1, 1, 1, 1, 1, 1, 1, 1, 1, 1, 1, 1, 1, 1, 1, 1, 1])"
            ]
          },
          "metadata": {},
          "execution_count": 11
        }
      ]
    },
    {
      "cell_type": "markdown",
      "metadata": {
        "id": "DhdBmNx8jWQv"
      },
      "source": [
        "The actual target values are stored in a Pandas series. So, for the sake of consistency, let's convert the NumPy array of the predicted values into a Pandas series."
      ]
    },
    {
      "cell_type": "code",
      "metadata": {
        "id": "xF3skQa0qBeO",
        "colab": {
          "base_uri": "https://localhost:8080/"
        },
        "outputId": "0c1e7073-cd5d-4546-9648-84002f0da073"
      },
      "source": [
        "# Convert the NumPy array of predicted values into a Pandas series.\n",
        "y_predicted = pd.Series(y_predicted)\n",
        "y_predicted.head()"
      ],
      "execution_count": null,
      "outputs": [
        {
          "output_type": "execute_result",
          "data": {
            "text/plain": [
              "0    1\n",
              "1    1\n",
              "2    1\n",
              "3    1\n",
              "4    1\n",
              "dtype: int64"
            ]
          },
          "metadata": {},
          "execution_count": 12
        }
      ]
    },
    {
      "cell_type": "markdown",
      "metadata": {
        "id": "nQwrexkrjrdE"
      },
      "source": [
        "Now, let's count the number of stars classified as `1` and `2`."
      ]
    },
    {
      "cell_type": "code",
      "metadata": {
        "id": "Qk7UnroAqTUT",
        "colab": {
          "base_uri": "https://localhost:8080/"
        },
        "outputId": "2807c937-5ada-46d9-fc78-26f4b4b9ac7c"
      },
      "source": [
        "# Using the 'value_counts()' function, count the number of times 1 and 2 occur in the predicted values.\n",
        "y_predicted.value_counts()"
      ],
      "execution_count": null,
      "outputs": [
        {
          "output_type": "execute_result",
          "data": {
            "text/plain": [
              "1    570\n",
              "dtype: int64"
            ]
          },
          "metadata": {},
          "execution_count": 13
        }
      ]
    },
    {
      "cell_type": "markdown",
      "metadata": {
        "id": "H3WclLnZkFfz"
      },
      "source": [
        "---"
      ]
    },
    {
      "cell_type": "markdown",
      "metadata": {
        "id": "5EunyjTuSOb1"
      },
      "source": [
        "#### Activity 1: The Confusion Matrix\n",
        "Let's quickly first create a confusion matrix and then will try to understand it.\n",
        "\n",
        "To create a confusion matrix, first import `confusion_matrix` module from the `sklearn.metrics` library. This library contains all the parameters to evaluate a machine learning model. In addition to the `confusion_matrix` module, let's also import the `classification_report` module. We will use them later to evaluate our module."
      ]
    },
    {
      "cell_type": "code",
      "metadata": {
        "id": "5bzvMefbUQ7A"
      },
      "source": [
        "#  Import the 'confusion_matrix' and 'classification_report' functions from the 'sklearn.metrics' module.\n",
        "from sklearn.metrics import confusion_matrix, classification_report"
      ],
      "execution_count": null,
      "outputs": []
    },
    {
      "cell_type": "markdown",
      "metadata": {
        "id": "FjnA_MB4UgVQ"
      },
      "source": [
        "Now, create the confusion matrix using the `confusion_matrix()` function. It requires two inputs. The first input is actual target values (`y_test`) and the second input is predicted target values (`y_predicted`)."
      ]
    },
    {
      "cell_type": "code",
      "metadata": {
        "id": "z33zddaxqDnO",
        "colab": {
          "base_uri": "https://localhost:8080/"
        },
        "outputId": "d92c55d4-e3c3-46a3-fd6f-9a7ba245a62e"
      },
      "source": [
        "#  Create a confusion matrix using the 'y_test' and 'y_predicted' values.\n",
        "confusion_matrix(y_test,y_predicted)"
      ],
      "execution_count": null,
      "outputs": [
        {
          "output_type": "execute_result",
          "data": {
            "text/plain": [
              "array([[565,   0],\n",
              "       [  5,   0]])"
            ]
          },
          "metadata": {},
          "execution_count": 15
        }
      ]
    },
    {
      "cell_type": "markdown",
      "metadata": {
        "id": "Hy1hFeqqTSYE"
      },
      "source": [
        "Now that we have got our confusion matrix, let's try to understand this concept.\n",
        "\n",
        "**Confusion Matrix:**\n",
        "---\n",
        "\n",
        "It is way of evaluating the performance of your machine learning algorithm.\n",
        "\n",
        "**For Example:**\n",
        "\n",
        "Suppose that you attempted an online exam in which you already know that out of 100 questions, you have given 75 correct answers and 25 incorrect answers.\n",
        "\n",
        "<img src=\"https://curriculum.whitehatjr.com/APT+Asset/APT+C17/WHJ-BOY-TYPING-APT-C17.gif\" height=400/>\n",
        "\n",
        "\n",
        "However, the exam software did not assessed the answers correctly and marked many correct answers as incorrect and incorrect answers as correct. Let us evaluate the performance of this software using confusion matrix.\n",
        "\n",
        "- There are two possible classes:\n",
        "  1. Class `correct`.\n",
        "  2. Class `incorrect`.\n",
        "\n",
        "We need to find out how many correct answers were accurately assessed or predicted by the software. \n",
        "\n",
        "Thus, \n",
        "- positive outcome $\\Rightarrow$ `correct` answer.\n",
        "- negative outcome $\\Rightarrow$ `incorrect` answer.\n",
        "\n",
        "In technical terms, the desired outcome is called a **positive outcome**. \n",
        "\n",
        "\n",
        "Now, consider the following table and a `2 X 2` matrix known as **confusion matrix**. This table shows the actual and predicted values for the first 4 questions.\n",
        "\n",
        "<img src=\"https://curriculum.whitehatjr.com/APT+Asset/APT+C17/table2.PNG\"/>\n",
        "\n",
        "\n",
        "\n",
        "Now let us have a look at each cell of the confusion matrix.\n",
        "\n",
        "1. The first row first column value indicates those `incorrect` answers which were <b><font color=green>accurately</font></b> assessed or predicted as `incorrect` by the software.\n",
        "Such values are called as **True Negative (TN)**.\n",
        "\n",
        "\n",
        "<img src=\"https://curriculum.whitehatjr.com/APT+Asset/APT+C17/True_negative.png\"/>\n",
        "\n",
        "2. The second  row second column value  indicates those `correct` answers which were <b><font color=green>accurately</font></b> assessed or predicted as `correct` by the software.\n",
        "Such values are called as **True Positive (TP)**.\n",
        "\n",
        "<img src=\"https://curriculum.whitehatjr.com/APT+Asset/APT+C17/true_positives.png\"/>\n",
        "\n",
        "3. The second  row first column value  indicates those `correct`  answers which were <b><font color=red>inaccurately</font></b>  assessed or predicted as `incorrect` by the software.\n",
        "Such values are called as **False Negative (FN)**.\n",
        "\n",
        "\n",
        "<img src=\"https://curriculum.whitehatjr.com/APT+Asset/APT+C17/fn.png\"/>\n",
        "\n",
        "4. The first  row second column value  indicates those `incorrect`  answers which were <b><font color=red>inaccurately</font></b>  assessed or predicted as `correct` by the software.\n",
        "Such values are called **False Positive (FP)**.\n",
        "\n",
        "\n",
        "<img src=\"https://curriculum.whitehatjr.com/APT+Asset/APT+C17/FP.png\"/>\n",
        "\n",
        "\n",
        "The resultant confusion matrix obtained after evaluating values for all the 100 questions are as follows:\n",
        "\n",
        "<img src=\"https://curriculum.whitehatjr.com/APT+Asset/APT+C17/whj-negative-positive-apt-c17-01.png\" height=300/>\n",
        "\n",
        "\n",
        "- Values that are accurately predicted or assessed by the model are labelled **True (T)**. Thus, the number of answers which were <b><font color=green>accurately</font></b> predicted by the software = `85`\n",
        "\n",
        "\n",
        "<img src=\"https://curriculum.whitehatjr.com/APT+Asset/APT+C17/whj-85-ans-apt-c17.gif\" height=450/>\n",
        "\n",
        "- Values that are inaccurately predicted or assessed by the model are labelled **False (F)**. Thus, the number of answers which were <b><font color=red>inaccurately</font></b> predicted by the software = `15`\n",
        "\n",
        "\n",
        "<img src=\"https://curriculum.whitehatjr.com/APT+Asset/APT+C17/whj-15-answers-apt-c17.gif\" height=450/>\n",
        "\n",
        "Thus the confusion matrix compares the actual values with the predicted values and thus it is very useful in evaluating the performance of your machine learning model.\n",
        "\n",
        "---\n",
        "\n",
        "Let us apply the concept of confusion matrix for our dataset.\n",
        "\n",
        "There are two possible classes:\n",
        "1. The class `1` values are stars **NOT** having a planet.\n",
        "2. The class `2` values are stars having a planet.\n",
        "\n",
        " So, after you deploy the classification model, there are 4 possible outcomes. They are:\n",
        "\n",
        "1. Class `1` values predicted as class `1`. \n",
        "\n",
        "2. Class `1` values predicted as class `2`.\n",
        "\n",
        "3. Class `2` values predicted as class `1`.\n",
        "\n",
        "4. Class `2` values predicted as class `2`.\n",
        "\n",
        "These 4 possibilities can be reported in a confusion matrix. \n",
        "\n",
        "||Predicted Class `1` (`y_predicted`)|Predicted Class `2` (`y_predicted`)|\n",
        "|-|-|-|\n",
        "|Actual Class `1` (`y_test`)|||\n",
        "|Actual Class `2` (`y_test`)|||\n",
        "\n",
        "where\n",
        "\n",
        "- `y_test` contains the actual class `1` and class `2` values\n",
        "\n",
        "- `y_predicted` contains the predicted class `1` and class `2` values\n",
        "\n",
        "In this table,\n",
        "\n",
        "- the values **predicted as class `1` and actually belonging to class `1`** are reported in the first row and first column.\n",
        "\n",
        "||Predicted Class `1` (`y_predicted`)|Predicted Class `2` (`y_predicted`)|\n",
        "|-|-|-|\n",
        "|Actual Class `1` (`y_test`)|565||\n",
        "|Actual Class `2` (`y_test`)|||\n",
        "\n",
        "- the values **predicted as class `1` but actually belonging to class `2`** are reported in the second row and first column. \n",
        "\n",
        "||Predicted Class `1` (`y_predicted`)|Predicted Class `2` (`y_predicted`)|\n",
        "|-|-|-|\n",
        "|Actual Class `1` (`y_test`)|565||\n",
        "|Actual Class `2` (`y_test`)|5||\n",
        "\n",
        "- the values **predicted as class `2` and actually belonging to class `2`** are reported in the second row and second column.\n",
        "\n",
        "||Predicted Class `1` (`y_predicted`)|Predicted Class `2` (`y_predicted`)|\n",
        "|-|-|-|\n",
        "|Actual Class `1` (`y_test`)|565||\n",
        "|Actual Class `2` (`y_test`)|5|0|\n",
        "\n",
        "- the values **predicted as class `2` but actually belonging to class `1`** are reported in the first row and second column.\n",
        "\n",
        "||Predicted Class `1` (`y_predicted`)|Predicted Class `2` (`y_predicted`)|\n",
        "|-|-|-|\n",
        "|Actual Class `1` (`y_test`)|565|0|\n",
        "|Actual Class `2` (`y_test`)|5|0|\n",
        "\n",
        "In this case, the class `1` values refer to the stars not having a planet whereas class `2` values refer to the stars having a planet. \n",
        "\n",
        "**Positive Outcome**\n",
        "\n",
        "Detecting a star having a planet is the desired outcome (positive outcome). \n",
        "Thus, \n",
        "- positive outcome $\\Rightarrow$ class `2`.\n",
        "\n",
        "- negative outcome $\\Rightarrow$ class `1`.\n",
        "\n",
        "So, here the positive outcome is the prediction of the stars having a planet, i.e., prediction of the class `2` values. Likewise, finding a star which does not have any planet is a *negative outcome*. So, here the negative outcome is the prediction of the class `1` values. \n",
        "\n",
        "Observe the output of `confusion_matrix(y_test, y_predicted)` function.\n",
        "\n",
        "```\n",
        "array([[565,   0],\n",
        "       [  5,   0]])\n",
        "```\n",
        "\n",
        "\n",
        "\n",
        "\n",
        "- `565` values are **True Negative (TN)** values because they are **truly** predicted as class `1` values.\n",
        "\n",
        "||Predicted Class `1` (`y_predicted`)|Predicted Class `2` (`y_predicted`)|\n",
        "|-|-|-|\n",
        "|Actual Class `1` (`y_test`)|565 (TN)||\n",
        "|Actual Class `2` (`y_test`)|||\n",
        "\n",
        "\n",
        "- `5` values are **False Negative (FN)** values because they are **falsely** predicted as class `1` values. They should have been predicted as class `2` values.\n",
        "\n",
        "||Predicted Class `1` (`y_predicted`)|Predicted Class `2` (`y_predicted`)|\n",
        "|-|-|-|\n",
        "|Actual Class `1` (`y_test`)|565 (TN)||\n",
        "|Actual Class `2` (`y_test`)|5 (FN)||\n",
        "\n",
        "\n",
        "- `0` values are **True Positive (TP)** values because they are **truly** predicted as class `2` values.\n",
        "\n",
        "||Predicted Class `1` (`y_predicted`)|Predicted Class `2` (`y_predicted`)|\n",
        "|-|-|-|\n",
        "|Actual Class `1` (`y_test`)|565 (TN)||\n",
        "|Actual Class `2` (`y_test`)|5 (FN)|0 (TP)|\n",
        "\n",
        "\n",
        "- `0` values are **False Positive (FP)** values because they are **falsely** predicted as class `2` values. They should have been predicted as class `1` values.\n",
        "\n",
        "||Predicted Class `1` (`y_predicted`)|Predicted Class `2` (`y_predicted`)|\n",
        "|-|-|-|\n",
        "|Actual Class `1` (`y_test`)|565 (TN)|0 (FP)|\n",
        "|Actual Class `2` (`y_test`)|5 (FN)|0 (TP)|"
      ]
    },
    {
      "cell_type": "markdown",
      "metadata": {
        "id": "m7bEEd-3mik_"
      },
      "source": [
        "---"
      ]
    },
    {
      "cell_type": "markdown",
      "metadata": {
        "id": "xRE1NWQxmjlV"
      },
      "source": [
        "#### Activity 2: Precision And Recall^\n",
        "\n",
        "A good prediction model provides a very large number of true positive (TP) values and a very low number of true negative (TN) values.\n",
        "\n",
        "**Precision:**\n",
        "\n",
        "Based on the TP and FP values, we define a parameter called **precision**. \n",
        "It is used to evaluate the number of correct positive predictions made.\n",
        "\n",
        "It is the ratio of the TP values to the sum of TP and FP values, i.e.,\n",
        "\n",
        "(defn of precision and recall)\n",
        "(precision of both outcomes.)\n",
        "(add example values)\n",
        "\n",
        "$$\\text{precision} = \\frac{\\text{TP}}{\\text{TP + FP}}$$\n",
        "\n",
        "Let us calculate the precision for exam software:\n",
        "\n",
        "<img src=\"https://curriculum.whitehatjr.com/APT+Asset/APT+C17/whj-negative-positive-apt-c17-01.png\" height=300/>\n",
        "\n",
        "For the above matrix,\n",
        "$$\\text{precision} = \\frac{\\text{TP}}{\\text{TP + FP}}=\\frac{\\text{65}}{\\text{65 + 5}}=\\text{0.928}$$\n",
        "\n",
        "Ideally, the precision should be 1 for a good classifier model. In this case, it is 0.928 which is quite good.\n",
        "\n",
        "Similarly, let's calculate the precision for our Random Forest classifier model.\n",
        "Currently, the model has given `0` TP values and `0` FP values. Therefore, the precision value is undefined because\n",
        "\n",
        "$$\\text{precision} = \\frac{0}{0 + 0} = \\text{undefined}$$\n",
        "\n",
        "*In mathematics, the division by 0 is undefined (or not defined).*\n",
        "\n",
        "**Recall:**\n",
        "\n",
        "Based on the TP and FN values, we define another parameter called **recall**.\n",
        "It is the ratio of the TP values to the sum of TP and FN values, i.e, \n",
        "\n",
        "$$\\text{recall} = \\frac{\\text{TP}}{\\text{TP + FN}}$$\n",
        "\n",
        "Let us calculate the precision for the exam software model:\n",
        "<img src=\"https://curriculum.whitehatjr.com/APT+Asset/APT+C17/whj-negative-positive-apt-c17-01.png\" height=300/>\n",
        "\n",
        "For the above matrix,\n",
        "$$\\text{recall} = \\frac{\\text{TP}}{\\text{TP + FN}}=\\frac{\\text{65}}{\\text{65 + 10}}=\\text{0.867}$$\n",
        "\n",
        "Ideally, the recall should be 1 for a good classifier model. In this case, it is 0.867 which is pretty good.\n",
        "\n",
        "Similarly, let's calculate the recall for our Random Forest classifier model.\n",
        "\n",
        "Currently, the model gives `0` TP and `5` FN values. Hence, the recall value is 0 because\n",
        "\n",
        "$$\\text{recall} = \\frac{0}{0+5} = \\text{0}$$\n",
        "\n",
        "Imagine if the prediction model labels every star as `2`, i.e, every star has a planet. Then, the number of TP values will be the maximum, i.e., `5` but the number of FP values will also be maximum, i.e., `565`. In such a case, the precision value would be\n",
        "\n",
        "$$\\text{precision} = \\frac{5}{5+565} = \\frac{5}{570} = 0.008$$\n",
        "\n",
        "which is very very low.\n",
        "\n",
        "Also, the model will give `0` FN values. Then, the recall value would be\n",
        "\n",
        "$$\\text{recall} = \\frac{5}{5 + 0} = 1$$\n",
        "\n",
        "\n",
        "So, even though the recall value would be equal to 1, the precision value would be close to 0. Hence, this would be a bad prediction model.\n",
        "\n",
        "\n",
        "Evidently, there is a trade-off. If the recall value is high, then the precision value will be low and vice-versa. Hence, we need to find an optimum point where both, the precision and the recall values are acceptable."
      ]
    },
    {
      "cell_type": "markdown",
      "metadata": {
        "id": "GHwSBiyi6Uud"
      },
      "source": [
        "---"
      ]
    },
    {
      "cell_type": "markdown",
      "metadata": {
        "id": "kJQ8pWo76WQC"
      },
      "source": [
        "#### Activity 3: The `f1-score`\n",
        "\n",
        "To find an optimum point where both, the precision and recall values, are high, we calculate another parameter called **f1-score**. It is a harmonic mean of the precision and recall values, i.e.,\n",
        "\n",
        "\n",
        "\n",
        "$$\\text{f1-score} = 2 \\left( \\frac{\\text{precision} \\times \\text{recall}}{\\text{precision} + \\text{recall}} \\right)$$\n",
        "\n",
        "Let us calculate the f1-score for the exam software model:\n",
        "<img src=\"https://curriculum.whitehatjr.com/APT+Asset/APT+C17/whj-negative-positive-apt-c17-01.png\" height=300/>\n",
        "\n",
        "For the above matrix,\n",
        "$$\\text{f1-score} = 2 \\left( \\frac{\\text{0.928} \\times \\text{0.867}}{\\text{0.928} + \\text{0.867}} \\right)=\\text{0.896}$$\n",
        "\n",
        "f1-score will be high only when both precision and recall are high. In this case, it is 0.896 which is a good f1-score.\n",
        "\n",
        "Similarly, let's calculate the f1-score for our Random Forest classifier model.\n",
        "\n",
        "Based on the current predictions, the f1-scores value is undefined because both the precision and recall values are also undefined.\n",
        "\n",
        "$$\\text{f1-score} = 2 \\left( \\frac{\\text{undefined} \\times 0}{\\text{undefined} + 0} \\right) =  \\text{undefined}$$\n",
        "\n",
        "You can also get these values by calling a function called `classification_report()`. It takes two inputs: the actual target values and the predicted target values, i.e., `y_test` and `y_predicted`.\n",
        "\n",
        "**Note:** You may get the following warning message after executing the code in the code cell below.\n",
        "\n",
        "```\n",
        "Precision and F-score are ill-defined and being set to 0.0 in labels with no predicted samples.\n",
        "```\n",
        "\n",
        "Ignore the warning."
      ]
    },
    {
      "cell_type": "code",
      "metadata": {
        "id": "SfyTwok0qHBv",
        "colab": {
          "base_uri": "https://localhost:8080/"
        },
        "outputId": "0bcb095d-b240-479e-8644-253adc20d1d0"
      },
      "source": [
        "#  Print the 'precision', 'recall' and 'f1-score' values using the 'classification_report()' function.\n",
        "print(classification_report(y_test, y_predicted))"
      ],
      "execution_count": null,
      "outputs": [
        {
          "output_type": "stream",
          "name": "stdout",
          "text": [
            "              precision    recall  f1-score   support\n",
            "\n",
            "           1       0.99      1.00      1.00       565\n",
            "           2       0.00      0.00      0.00         5\n",
            "\n",
            "    accuracy                           0.99       570\n",
            "   macro avg       0.50      0.50      0.50       570\n",
            "weighted avg       0.98      0.99      0.99       570\n",
            "\n"
          ]
        },
        {
          "output_type": "stream",
          "name": "stderr",
          "text": [
            "/usr/local/lib/python3.7/dist-packages/sklearn/metrics/_classification.py:1318: UndefinedMetricWarning: Precision and F-score are ill-defined and being set to 0.0 in labels with no predicted samples. Use `zero_division` parameter to control this behavior.\n",
            "  _warn_prf(average, modifier, msg_start, len(result))\n",
            "/usr/local/lib/python3.7/dist-packages/sklearn/metrics/_classification.py:1318: UndefinedMetricWarning: Precision and F-score are ill-defined and being set to 0.0 in labels with no predicted samples. Use `zero_division` parameter to control this behavior.\n",
            "  _warn_prf(average, modifier, msg_start, len(result))\n",
            "/usr/local/lib/python3.7/dist-packages/sklearn/metrics/_classification.py:1318: UndefinedMetricWarning: Precision and F-score are ill-defined and being set to 0.0 in labels with no predicted samples. Use `zero_division` parameter to control this behavior.\n",
            "  _warn_prf(average, modifier, msg_start, len(result))\n"
          ]
        }
      ]
    },
    {
      "cell_type": "markdown",
      "metadata": {
        "id": "4un_scgINE7f"
      },
      "source": [
        "As you can see, the `precision` and `f1-score` values are reported as `0.00` for class `2` because they are actually undefined values. \n",
        "  \n",
        "Ideally, the above values for class `2` should also be close to `1.00`. Then only we can say that our prediction model is satisfactory. This shows that accuracy alone cannot tell whether a prediction model is making correct predictions or not.\n",
        "\n",
        "In the next class, we will try to improve the model so that we get the desired precision, recall and f1-score values for class `2`.\n",
        "\n"
      ]
    },
    {
      "cell_type": "markdown",
      "metadata": {
        "id": "izmIyiq8QBhx"
      },
      "source": [
        "---"
      ]
    },
    {
      "cell_type": "markdown",
      "metadata": {
        "id": "VPkaT0k8BJcI"
      },
      "source": [
        "---"
      ]
    },
    {
      "cell_type": "markdown",
      "metadata": {
        "id": "iidnv7WCBKNN"
      },
      "source": [
        "#### Activity 1: Google Coding Challenge\n",
        "\n",
        "This coding question is taken from Google Coding Challenge\n",
        "\n",
        "**Problem**\n",
        "\n",
        "There are $N$ houses for sale. The $i^{\\text{th}}$ house costs $A_i$ dollars to buy. You have a budget of $B$ dollars to spend. What is the maximum number of houses you can buy?\n",
        "\n",
        "**Input**\n",
        "\n",
        "The first line of the input gives the number of test cases, $T$. $T$ test cases follow. Each test case begins with a single line containing the two integers $N$ and $B$. The second line contains $N$ integers. The $i^{\\text{th}}$ integer is $A_i$, the cost of the $i^{\\text{th}}$ house.\n",
        "\n",
        "**Output**\n",
        "\n",
        "For each test case, output one line containing `Case #x: y`, where `x` is the test case number (starting from 1) and `y` is the maximum number of houses you can buy.\n",
        "\n",
        "**Limits**\n",
        "\n",
        "$1 ≤ T ≤ 100$$\n",
        "\n",
        "$1 ≤ B ≤ 10^5$\n",
        "\n",
        "$1 ≤ A_i ≤ 1000$, for all $i$.\n",
        "\n",
        "\n",
        "**Sample** \n",
        "\n",
        "**Input** \n",
        "\n",
        "```\n",
        "3\n",
        "4 100\n",
        "20 90 40 90\n",
        "4 50\n",
        "30 30 10 10\n",
        "3 300\n",
        "999 999 999\n",
        "```\n",
        "\n",
        "**Output**\n",
        "\n",
        "```\n",
        "Case # 1 : 2\n",
        "Case # 2 : 3\n",
        "Case # 3 : 0\n",
        "```\n",
        "\n",
        "In Sample `Case #1`, you have a budget of `100` dollars. You can buy the first and third houses for `20 + 40 = 60` dollars.\n",
        "\n",
        "In Sample `Case #2`, you have a budget of `50` dollars. You can buy the first, third and fourth houses for `30 + 10 + 10 = 50` dollars.\n",
        "\n",
        "In Sample `Case #3`, you have a budget of `300` dollars. You cannot buy any houses. So the answer is `0`."
      ]
    },
    {
      "cell_type": "code",
      "metadata": {
        "id": "Dq6mTVxu_Mqf"
      },
      "source": [
        "# Solution:\n",
        "def max_affordable_houses(my_budget, house_prices):\n",
        "\tsum_house_prices = 0\n",
        "\tcount = 0\n",
        "\thouse_prices.sort()\n",
        "\tfor price in house_prices:\n",
        "\t\tsum_house_prices += int(price)\n",
        "\t\tif sum_house_prices > my_budget:\n",
        "\t\t\tcontinue\n",
        "\t\telse:\n",
        "\t\t\tcount += 1\n",
        "\treturn count\n",
        "\n",
        "test_cases = [] # This line of code should be shown to the students.\n",
        "num_test_cases = int(input()) # This line of code should be shown to the students.\n",
        "while num_test_cases > 0: # This line of code should be shown to the students.\n",
        "\tinput_list = input().split(' ') # This line of code should be shown to the students.\n",
        "\tnum_houses = int(input_list[0]) # This line of code should be shown to the students.\n",
        "\tmy_budget = int(input_list[1]) # This line of code should be shown to the students.\n",
        "\thouse_prices = input().split(' ') # This line of code should be shown to the students.\n",
        "\thouse_prices = [int(price) for price in house_prices] # This line of code should be shown to the students.\n",
        "\ttest_cases.append([my_budget, house_prices]) # This line of code should be shown to the students.\n",
        "\tnum_test_cases -= 1 # This line of code should be shown to the students.\n",
        "\n",
        "for i in range(len(test_cases)):\n",
        "\tmy_budget = test_cases[i][0]\n",
        "\thouse_prices = test_cases[i][1]\n",
        "\tprint(\"Case #\", i + 1, \":\", max_affordable_houses(my_budget, house_prices))"
      ],
      "execution_count": null,
      "outputs": []
    },
    {
      "cell_type": "markdown",
      "metadata": {
        "id": "q7KPTy5KDV03"
      },
      "source": [
        "---"
      ]
    },
    {
      "cell_type": "markdown",
      "metadata": {
        "id": "6kfXvaUPAl8a"
      },
      "source": [
        "---"
      ]
    },
    {
      "cell_type": "markdown",
      "metadata": {
        "id": "FTcaxRROAo9m"
      },
      "source": [
        "---"
      ]
    }
  ]
}