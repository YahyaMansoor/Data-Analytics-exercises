{
  "nbformat": 4,
  "nbformat_minor": 0,
  "metadata": {
    "colab": {
      "provenance": [],
      "include_colab_link": true
    },
    "kernelspec": {
      "name": "python3",
      "display_name": "Python 3"
    }
  },
  "cells": [
    {
      "cell_type": "markdown",
      "metadata": {
        "id": "view-in-github",
        "colab_type": "text"
      },
      "source": [
        "<a href=\"https://colab.research.google.com/github/YahyaMansoor/Data-Analytics-exercises/blob/main/Pandas_class_v0.ipynb\" target=\"_parent\"><img src=\"https://colab.research.google.com/assets/colab-badge.svg\" alt=\"Open In Colab\"/></a>"
      ]
    },
    {
      "cell_type": "markdown",
      "metadata": {
        "id": "KZngaph1E1HU"
      },
      "source": [
        "# Pandas Series"
      ]
    },
    {
      "cell_type": "markdown",
      "metadata": {
        "id": "7ZWi8Rgg-vMU"
      },
      "source": [
        "---"
      ]
    },
    {
      "cell_type": "markdown",
      "metadata": {
        "id": "9xQQ4vHgQBSN"
      },
      "source": [
        "###  Activities\n",
        "\n",
        "Before we go ahead with more concepts on Machine Learning and Artificial Intelligence, let's first learn a bit of Data Analysis, so that you can get a better understanding of data. Every dataset tells you a story if you look at it through the right lenses.\n",
        "\n",
        "To give you a perspective, imagine that you have data on the number of sales happening in every month of every single shop in your city. You would notice that during the festivals, the sales volume of sweets rises by a tremendous magnitude. Similarly, the sales volume of clothes, jewellery and electronic products also rose significantly in this period.\n",
        "\n",
        "If you have the tourism data, then you would see that a lot of people in India go on a vacation in the months of May and June, which makes sense because schools are closed in these two months due to summer vacation.\n",
        "\n",
        "Through data, you can observe a trend and based on that trend you can draw meaningful insights, helping you in making decisions in your daily life, in business organisations, in medical and engineering applications etc. \n",
        "\n",
        "When it comes to Data Analysis in Python, we use a module called Pandas which is specifically designed to manipulate, manage and analyse a huge amount of data by creating Pandas Series and Pandas DataFrames. \n",
        "\n",
        "In this lesson, we will learn about the Pandas Series."
      ]
    },
    {
      "cell_type": "markdown",
      "metadata": {
        "id": "crUqZtm_BRK6"
      },
      "source": [
        "---"
      ]
    },
    {
      "cell_type": "markdown",
      "metadata": {
        "id": "2jtEZd96SmI9"
      },
      "source": [
        "#### Pandas Series \n",
        "\n",
        "A Pandas series is a one-dimensional array which can hold various data types. It is similar to a Python list and a NumPy array.\n",
        "\n",
        "Without going too much into the theory, let's get started with the Pandas series right away. At the end of the class, we will learn when to use a Python list, a NumPy array and a Pandas series."
      ]
    },
    {
      "cell_type": "markdown",
      "metadata": {
        "id": "PiRvtjf1BXlV"
      },
      "source": [
        "---"
      ]
    },
    {
      "cell_type": "markdown",
      "metadata": {
        "id": "6VYKPpnVavVx"
      },
      "source": [
        "#### Activity 1: Python List To Pandas Series Conversion\n",
        "\n",
        "Let's understand the Pandas series through an example. Suppose there are `30` students in your class and their weights vary in the range of `45` to `60` kg (both inclusive).\n",
        "\n",
        "We can create a Pandas series containing the weights of the students by first creating a Python list and then converting it to a Pandas series. To create a Pandas series, you have to first import the `pandas` module using the `import` keyword. \n",
        "\n",
        "```\n",
        "import pandas as pd\n",
        "```\n",
        "\n",
        "Here, `pd` is an alias (or nickname) for `pandas`\n",
        "\n",
        "Then you can call the `Series()` function to convert a Python list or a NumPy array into a Pandas series.\n",
        "\n",
        "```\n",
        "weights = pd.Series([random.randint(45, 60) for i in range(30)])\n",
        "```\n",
        "\n",
        "**Note:** Unlike other functions, the `Series()` function begins with the uppercase letter `S`."
      ]
    },
    {
      "cell_type": "code",
      "metadata": {
        "id": "EMr9AICpP2wY",
        "colab": {
          "base_uri": "https://localhost:8080/"
        },
        "outputId": "b8cdcc13-51a1-4ca7-f725-acff586d0c24"
      },
      "source": [
        "#Create a Pandas series containing 30 random integers between 45 and 60.\n",
        "import random\n",
        "import pandas as pd\n",
        "\n",
        "weights = pd.Series([random.randint(45,60) for i in range(30)])\n",
        "print(weights)"
      ],
      "execution_count": null,
      "outputs": [
        {
          "output_type": "stream",
          "name": "stdout",
          "text": [
            "0     53\n",
            "1     47\n",
            "2     47\n",
            "3     57\n",
            "4     51\n",
            "5     55\n",
            "6     56\n",
            "7     47\n",
            "8     46\n",
            "9     54\n",
            "10    49\n",
            "11    54\n",
            "12    54\n",
            "13    58\n",
            "14    48\n",
            "15    48\n",
            "16    59\n",
            "17    56\n",
            "18    59\n",
            "19    55\n",
            "20    52\n",
            "21    55\n",
            "22    52\n",
            "23    57\n",
            "24    48\n",
            "25    60\n",
            "26    55\n",
            "27    54\n",
            "28    58\n",
            "29    56\n",
            "dtype: int64\n"
          ]
        }
      ]
    },
    {
      "cell_type": "markdown",
      "metadata": {
        "id": "UrDULktVb2Ji"
      },
      "source": [
        "The first column in the output represents the indices of all the items in the `weights` Pandas series. The second column contains the weights of the students. The data-type of each item is an `int`.\n",
        "\n",
        "**Note:** Ignore the `64` in the `int64` for the time being. \n",
        "\n",
        "Using the `Series()` function, you can convert any one-dimensional Python list into a Pandas series. Now, let's verify whether `weights` is a Pandas series or not."
      ]
    },
    {
      "cell_type": "code",
      "metadata": {
        "id": "TDnNWIjxz99A",
        "colab": {
          "base_uri": "https://localhost:8080/"
        },
        "outputId": "8238ed19-791d-4fbc-bde9-3db757277f9c"
      },
      "source": [
        "# Verify the type of value stored in the 'weights' variable using the 'type()' function.\n",
        "type(weights)"
      ],
      "execution_count": null,
      "outputs": [
        {
          "output_type": "execute_result",
          "data": {
            "text/plain": [
              "pandas.core.series.Series"
            ]
          },
          "metadata": {},
          "execution_count": 5
        }
      ]
    },
    {
      "cell_type": "markdown",
      "metadata": {
        "id": "9sOodrKz0K4O"
      },
      "source": [
        "The `type()` function returns `pandas.core.series.Series` as an output which confirms that `weights` is indeed a Pandas series. \n",
        "\n",
        "A Pandas series can also contain the items of multiple data-types. Recall that in the trial class we created 4 different variables to store the attributes of a planet.  \n",
        "\n",
        "||Mercury|\n",
        "|-|-|\n",
        "|Diameter (km)|4879|\n",
        "|Gravity ($m/s^2$)|3.7|\n",
        "|Ring|No|\n",
        "\n",
        "\n",
        "Let's store the name of a planet, its diameter, gravity and whether it has a ring or not in a Python list and then convert it into a pandas series.\n"
      ]
    },
    {
      "cell_type": "code",
      "metadata": {
        "id": "rsq1SJvObuMK",
        "colab": {
          "base_uri": "https://localhost:8080/"
        },
        "outputId": "039b8724-f3d1-4657-cf9b-f2457cc84ed3"
      },
      "source": [
        "# Create a Python list which contains planet name, diameter, gravity and False if the planet has a ring.\n",
        "# Convert the list into a Pandas series. Also, verify whether the list successfully is converted to a Pandas series or not.\n",
        "planet_details = pd.Series(['Mercury', 4879, 3.7, False])\n",
        "print(planet_details)\n",
        "type(planet_details)"
      ],
      "execution_count": null,
      "outputs": [
        {
          "output_type": "stream",
          "name": "stdout",
          "text": [
            "0    Mercury\n",
            "1       4879\n",
            "2        3.7\n",
            "3      False\n",
            "dtype: object\n"
          ]
        },
        {
          "output_type": "execute_result",
          "data": {
            "text/plain": [
              "pandas.core.series.Series"
            ]
          },
          "metadata": {},
          "execution_count": 14
        }
      ]
    },
    {
      "cell_type": "markdown",
      "metadata": {
        "id": "qYnWSTd-oEBY"
      },
      "source": [
        "Here the data-type is `object`. Pandas cannot return the data-type of every individual item. Hence, it has returned `object` data-type to represent one common data-type for all the items.\n",
        "\n",
        "You can also use the `size` keyword to find the number of items in a Pandas series."
      ]
    },
    {
      "cell_type": "code",
      "metadata": {
        "id": "PUa5uRc2Cysy",
        "colab": {
          "base_uri": "https://localhost:8080/"
        },
        "outputId": "eae872fb-7236-473f-939a-9601070ffe59"
      },
      "source": [
        "# Find the number of items in the 'weights' Pandas series using the 'size' keyword.\n",
        "weights.size"
      ],
      "execution_count": null,
      "outputs": [
        {
          "output_type": "execute_result",
          "data": {
            "text/plain": [
              "30"
            ]
          },
          "metadata": {},
          "execution_count": 15
        }
      ]
    },
    {
      "cell_type": "markdown",
      "metadata": {
        "id": "QtQA2xU0C94F"
      },
      "source": [
        "So, there are `30` items in the `weights` Pandas series. \n",
        "\n",
        "You can also use the `shape` keyword to find the number of rows and columns in a Pandas series."
      ]
    },
    {
      "cell_type": "code",
      "metadata": {
        "id": "-y9cRsdBDH-G",
        "colab": {
          "base_uri": "https://localhost:8080/"
        },
        "outputId": "1950586b-dbdd-4cb5-b2ce-d3eb147e341f"
      },
      "source": [
        "# Find the number of rows and columns in the 'weights' Pandas series using the 'shape' keyword.\n",
        "weights.shape"
      ],
      "execution_count": null,
      "outputs": [
        {
          "output_type": "execute_result",
          "data": {
            "text/plain": [
              "(30,)"
            ]
          },
          "metadata": {},
          "execution_count": 17
        }
      ]
    },
    {
      "cell_type": "markdown",
      "metadata": {
        "id": "UiqBN8vsDOyh"
      },
      "source": [
        "So, there are `30` rows and `1` column in the `weights` Pandas series."
      ]
    },
    {
      "cell_type": "markdown",
      "metadata": {
        "id": "KGtlRcPDBfPd"
      },
      "source": [
        "---"
      ]
    },
    {
      "cell_type": "markdown",
      "metadata": {
        "id": "SLrh_iDB1M74"
      },
      "source": [
        "#### Activity 2: The `mean(), min(), max()` Functions \n",
        "\n",
        "The `mean()` function does not take any input and returns the average value of all the items as an output.\n",
        "\n",
        "To apply this function, you need to write the Pandas series; whose mean value you need to compute; followed by the dot (`.`) operator.\n"
      ]
    },
    {
      "cell_type": "code",
      "metadata": {
        "id": "Ce9nbvapc3HX",
        "colab": {
          "base_uri": "https://localhost:8080/"
        },
        "outputId": "36f917a7-a633-4191-cedd-207f8429700e"
      },
      "source": [
        "# Calculate the average value of all the numbers in a Pandas series.\n",
        "weights.mean()"
      ],
      "execution_count": null,
      "outputs": [
        {
          "output_type": "execute_result",
          "data": {
            "text/plain": [
              "52.56666666666667"
            ]
          },
          "metadata": {},
          "execution_count": 8
        }
      ]
    },
    {
      "cell_type": "markdown",
      "metadata": {
        "id": "Xb62jTLtup7l"
      },
      "source": [
        "Similarly, you can also find the minimum and maximum values in a Pandas series using the `min()` and `max()` functions."
      ]
    },
    {
      "cell_type": "code",
      "metadata": {
        "id": "MoGFFlFGzm5_",
        "colab": {
          "base_uri": "https://localhost:8080/"
        },
        "outputId": "947920c2-1fc7-4248-b618-3680f77a233c"
      },
      "source": [
        "# Using the 'min()' and 'max()' functions, print the minimum and maximum values in the 'weights' Pandas series.\n",
        "print(weights.min())\n",
        "weights.max()"
      ],
      "execution_count": null,
      "outputs": [
        {
          "output_type": "stream",
          "name": "stdout",
          "text": [
            "45\n"
          ]
        },
        {
          "output_type": "execute_result",
          "data": {
            "text/plain": [
              "59"
            ]
          },
          "metadata": {},
          "execution_count": 9
        }
      ]
    },
    {
      "cell_type": "markdown",
      "metadata": {
        "id": "1Aa8dT_nBg0U"
      },
      "source": [
        "---"
      ]
    },
    {
      "cell_type": "markdown",
      "metadata": {
        "id": "ppYm2Q9V3s2H"
      },
      "source": [
        "#### Activity 3: The `head()` And `tail()` Functions\n",
        "\n",
        "Sometimes instead of looking at the full dataset, we just want to look at the first few rows or the last few rows of the dataset. In such cases, we can use the `head()` and `tail()` function.\n",
        "\n",
        "The `head()` function shows the first five and the `tail()` function shows the last five items in a Pandas series."
      ]
    },
    {
      "cell_type": "code",
      "metadata": {
        "id": "C2mEBmQv1wmr",
        "colab": {
          "base_uri": "https://localhost:8080/"
        },
        "outputId": "ab93f04e-11aa-47ef-ba3f-1879e84e49f1"
      },
      "source": [
        "#Print only the first 5 items in a Pandas series using the 'head()' function.\n",
        "weights.head(10)"
      ],
      "execution_count": null,
      "outputs": [
        {
          "output_type": "execute_result",
          "data": {
            "text/plain": [
              "0    58\n",
              "1    54\n",
              "2    57\n",
              "3    55\n",
              "4    55\n",
              "5    46\n",
              "6    57\n",
              "7    46\n",
              "8    51\n",
              "9    58\n",
              "dtype: int64"
            ]
          },
          "metadata": {},
          "execution_count": 14
        }
      ]
    },
    {
      "cell_type": "markdown",
      "metadata": {
        "id": "8vHjxvBe4mDU"
      },
      "source": [
        "The numbers in the first column in the output are the indices of each item in the Pandas series. Since we print the first five items, the indices range from `0` to `4`."
      ]
    },
    {
      "cell_type": "code",
      "metadata": {
        "id": "4BZ0vDmy4kWQ",
        "colab": {
          "base_uri": "https://localhost:8080/"
        },
        "outputId": "047401d5-759b-476f-8b26-24e0f3746d67"
      },
      "source": [
        "# Using the 'tail()' function, print the last 5 items in the Pandas series.\n",
        "weights.tail()"
      ],
      "execution_count": null,
      "outputs": [
        {
          "output_type": "execute_result",
          "data": {
            "text/plain": [
              "25    50\n",
              "26    46\n",
              "27    59\n",
              "28    59\n",
              "29    57\n",
              "dtype: int64"
            ]
          },
          "metadata": {},
          "execution_count": 13
        }
      ]
    },
    {
      "cell_type": "markdown",
      "metadata": {
        "id": "-Z8RAfIr3wiO"
      },
      "source": [
        "Since we printed the last five items of the series, the indices range from `25` to `29`.\n",
        "\n",
        "Within the `head()` and `tail()` functions, you can specify the `n` number of first items and the `n` number of last items you wish to see in a Pandas series."
      ]
    },
    {
      "cell_type": "markdown",
      "metadata": {
        "id": "Rme5LFfDBjBl"
      },
      "source": [
        "---"
      ]
    },
    {
      "cell_type": "markdown",
      "metadata": {
        "id": "R-YHECv8272g"
      },
      "source": [
        "#### Activity 4: Indexing A Pandas Series^\n",
        "\n",
        "Indexing a Pandas series is the same as indexing a Python list or a NumPy array. \n",
        "\n",
        "Let's say we want to get the weights of the students whose indices range from `13` to `21`, then you can write the variable storing the Pandas series followed by the square brackets `[]`. Inside the square brackets, you can mention the range of items you wish to retrieve from a series.\n",
        "\n",
        "**Syntax:** `pandas_series[start_index:end_index]`"
      ]
    },
    {
      "cell_type": "code",
      "metadata": {
        "id": "phhN5YRc3k3b",
        "colab": {
          "base_uri": "https://localhost:8080/"
        },
        "outputId": "6ef291b3-1da3-413a-9e8e-40d78d4db5e1"
      },
      "source": [
        "# Retrieve items from a Pandas series using the indexing method.\n",
        "weights[13:22]"
      ],
      "execution_count": null,
      "outputs": [
        {
          "output_type": "execute_result",
          "data": {
            "text/plain": [
              "13    47\n",
              "14    53\n",
              "15    53\n",
              "16    52\n",
              "17    59\n",
              "18    46\n",
              "19    58\n",
              "20    45\n",
              "21    57\n",
              "dtype: int64"
            ]
          },
          "metadata": {},
          "execution_count": 15
        }
      ]
    },
    {
      "cell_type": "markdown",
      "metadata": {
        "id": "kWIw-52mGY_O"
      },
      "source": [
        "#### Activity 5: The `mode()` Function\n",
        "\n",
        "Let's say you want to find out the weights of the most number of students in your class, then you can use the `mode()` function."
      ]
    },
    {
      "cell_type": "code",
      "metadata": {
        "id": "usuCFOT5DnI0",
        "colab": {
          "base_uri": "https://localhost:8080/"
        },
        "outputId": "34d68d43-180d-4581-fc9b-aeac7a21de76"
      },
      "source": [
        "#Compute the modal value in the 'weight' series.\n",
        "weights.mode()"
      ],
      "execution_count": null,
      "outputs": [
        {
          "output_type": "execute_result",
          "data": {
            "text/plain": [
              "0    46\n",
              "dtype: int64"
            ]
          },
          "metadata": {},
          "execution_count": 16
        }
      ]
    },
    {
      "cell_type": "markdown",
      "metadata": {
        "id": "a4lTVCuwIkC2"
      },
      "source": [
        "**Note**: A dataset can have more than one modal value. \n"
      ]
    },
    {
      "cell_type": "markdown",
      "metadata": {
        "id": "8wRQOfR7Bmqr"
      },
      "source": [
        "---"
      ]
    },
    {
      "cell_type": "markdown",
      "source": [],
      "metadata": {
        "id": "awO2qiWdXeMd"
      }
    },
    {
      "cell_type": "markdown",
      "metadata": {
        "id": "FHZ9M6342j2M"
      },
      "source": [
        "#### Activity 6: The `sort_values()` Function^^\n",
        "\n",
        "We can use the `sort_values()` function to arrange the numbers in a Pandas series either in an ascending order or in descending order.\n",
        "\n",
        "To arrange the numbers in a Pandas series in the increasing order, use the `sort_values()` function with the `ascending=True` as an input."
      ]
    },
    {
      "cell_type": "code",
      "metadata": {
        "id": "Ahm8KCSm243J",
        "colab": {
          "base_uri": "https://localhost:8080/"
        },
        "outputId": "6c5f4e12-9aa0-4728-fd5a-456859dbbc63"
      },
      "source": [
        "# Arrange the weights in the increasing order using the 'sort_values()' function.\n",
        "weights.sort_values(ascending=True)"
      ],
      "execution_count": null,
      "outputs": [
        {
          "output_type": "execute_result",
          "data": {
            "text/plain": [
              "8     46\n",
              "1     47\n",
              "2     47\n",
              "7     47\n",
              "14    48\n",
              "24    48\n",
              "15    48\n",
              "10    49\n",
              "4     51\n",
              "22    52\n",
              "20    52\n",
              "0     53\n",
              "12    54\n",
              "27    54\n",
              "9     54\n",
              "11    54\n",
              "26    55\n",
              "5     55\n",
              "21    55\n",
              "19    55\n",
              "6     56\n",
              "17    56\n",
              "29    56\n",
              "23    57\n",
              "3     57\n",
              "28    58\n",
              "13    58\n",
              "16    59\n",
              "18    59\n",
              "25    60\n",
              "dtype: int64"
            ]
          },
          "metadata": {},
          "execution_count": 18
        }
      ]
    },
    {
      "cell_type": "markdown",
      "metadata": {
        "id": "HvuYmLY01NRE"
      },
      "source": [
        "To arrange the numbers in a Pandas series in the decreasing order, use the `sort_values()` function with the `ascending=False` as an input."
      ]
    },
    {
      "cell_type": "code",
      "metadata": {
        "id": "58zrrGp03MPr",
        "colab": {
          "base_uri": "https://localhost:8080/"
        },
        "outputId": "31c5ff16-58d6-453f-95e7-d4185c713067"
      },
      "source": [
        "# Using the 'sort_values()' function, arrange the weights in the decreasing order.\n",
        "weights.sort_values(ascending=False)"
      ],
      "execution_count": null,
      "outputs": [
        {
          "output_type": "execute_result",
          "data": {
            "text/plain": [
              "28    59\n",
              "27    59\n",
              "17    59\n",
              "0     58\n",
              "9     58\n",
              "19    58\n",
              "21    57\n",
              "29    57\n",
              "2     57\n",
              "6     57\n",
              "12    56\n",
              "22    56\n",
              "4     55\n",
              "3     55\n",
              "1     54\n",
              "15    53\n",
              "14    53\n",
              "16    52\n",
              "23    51\n",
              "8     51\n",
              "25    50\n",
              "13    47\n",
              "7     46\n",
              "18    46\n",
              "24    46\n",
              "26    46\n",
              "5     46\n",
              "20    45\n",
              "11    45\n",
              "10    45\n",
              "dtype: int64"
            ]
          },
          "metadata": {},
          "execution_count": 21
        }
      ]
    },
    {
      "cell_type": "markdown",
      "metadata": {
        "id": "f_gvj2iuBojX"
      },
      "source": [
        "---"
      ]
    },
    {
      "cell_type": "markdown",
      "metadata": {
        "id": "JzMxsDyM1xjF"
      },
      "source": [
        "#### Activity 7: The `median()` Function\n",
        "\n",
        "To find the median value in a Pandas series, we can simply use the `median()` function.\n"
      ]
    },
    {
      "cell_type": "code",
      "metadata": {
        "id": "7ow8yIRJIVkH",
        "colab": {
          "base_uri": "https://localhost:8080/"
        },
        "outputId": "5ca365b0-44c7-4b21-a712-5464b27fb416"
      },
      "source": [
        "# Using the 'median()' function, find the median weight in the weights series.\n",
        "weights.median()"
      ],
      "execution_count": null,
      "outputs": [
        {
          "output_type": "execute_result",
          "data": {
            "text/plain": [
              "53.5"
            ]
          },
          "metadata": {},
          "execution_count": 19
        }
      ]
    },
    {
      "cell_type": "markdown",
      "metadata": {
        "id": "miV_5-BUBqgo"
      },
      "source": [
        "---"
      ]
    },
    {
      "cell_type": "markdown",
      "metadata": {
        "id": "OzwfreqNImoh"
      },
      "source": [
        "#### Activity 8: The `value_counts()` Function^^^\n",
        "\n",
        "To count the number of occurrences of an item in a Pandas series, you can use the `value_counts()` function."
      ]
    },
    {
      "cell_type": "code",
      "metadata": {
        "id": "oXpzD6kCIrFc",
        "colab": {
          "base_uri": "https://localhost:8080/"
        },
        "outputId": "36edb25f-120f-4e8f-db27-fda9c9ad4fea"
      },
      "source": [
        "# Count the number of times each item in the 'weights' Pandas series occurs.\n",
        "weights.value_counts()"
      ],
      "execution_count": null,
      "outputs": [
        {
          "output_type": "execute_result",
          "data": {
            "text/plain": [
              "46    5\n",
              "57    4\n",
              "58    3\n",
              "45    3\n",
              "59    3\n",
              "55    2\n",
              "51    2\n",
              "56    2\n",
              "53    2\n",
              "54    1\n",
              "47    1\n",
              "52    1\n",
              "50    1\n",
              "dtype: int64"
            ]
          },
          "metadata": {},
          "execution_count": 20
        }
      ]
    },
    {
      "cell_type": "markdown",
      "metadata": {
        "id": "sm6gnHKkJFTw"
      },
      "source": [
        "**Note:** The `value_counts()` function is not available for Python lists and NumPy arrays.\n",
        "\n",
        "There is more to the Pandas series. We will learn it in detail along with Pandas DataFrames from the next class onwards. This is just an introductory class to Pandas."
      ]
    },
    {
      "cell_type": "markdown",
      "metadata": {
        "id": "fxkchvyXiCdB"
      },
      "source": [
        "---"
      ]
    },
    {
      "cell_type": "markdown",
      "metadata": {
        "id": "5EwMI1JpiEDr"
      },
      "source": [
        "#### Python List vs NumPy Array vs Pandas Series\n",
        "\n",
        "You might now wonder when to use a Python list, a NumPy array and a Pandas series?\n",
        "\n",
        "There are no hard rules to decide when to use which one of these data-structures but as a guide you may consider the following:\n",
        "\n",
        "1. When you just want to store data, retrieve data and add more data, use a Python list.\n",
        "\n",
        "2. When you want to store a numerical data (one-dimensional or multidimensional) and want to perform a lot of mathematical operations, then use a NumPy array as it faster than a Python list and it is easy to create a multidimensional array using a NumPy array.\n",
        "\n",
        "3. When you want to import data from an external file such as `TXT, XLXS, CSV, XML` etc then use a Pandas series. In the next class, you will learn how to import data from an external file. Additionally, Pandas allow you to interpret data in different ways. It also allows you to do complicated data extraction, manipulation and data processing operations on a dataset. Throughout this course, we will use Pandas library to handle data."
      ]
    },
    {
      "cell_type": "markdown",
      "metadata": {
        "id": "g1bVOdOWJSav"
      },
      "source": [
        "---"
      ]
    },
    {
      "cell_type": "markdown",
      "metadata": {
        "id": "xBCnf2fSWKCs"
      },
      "source": [
        "---"
      ]
    },
    {
      "cell_type": "markdown",
      "metadata": {
        "id": "B23a94-4WOlM"
      },
      "source": [
        "#### Activity 1: Calculate Mean\n",
        "\n",
        "Write a function to calculate the mean of all the numbers contained in a list/array/series."
      ]
    },
    {
      "cell_type": "code",
      "metadata": {
        "id": "dg7yWGx1WutI",
        "colab": {
          "base_uri": "https://localhost:8080/"
        },
        "outputId": "220ac0b2-2555-4677-9f51-6ed641636fed"
      },
      "source": [
        "# Solution\n",
        "def compute_mean(num_series):\n",
        "  result = 0\n",
        "  for num in num_series:\n",
        "    result = result + num\n",
        "  return result / len(num_series)\n",
        "\n",
        "num_series = pd.Series([i for i in range(1, 11)])\n",
        "print(num_series)\n",
        "print(\"The required mean is\", compute_mean(num_series))"
      ],
      "execution_count": null,
      "outputs": [
        {
          "output_type": "stream",
          "name": "stdout",
          "text": [
            "0     1\n",
            "1     2\n",
            "2     3\n",
            "3     4\n",
            "4     5\n",
            "5     6\n",
            "6     7\n",
            "7     8\n",
            "8     9\n",
            "9    10\n",
            "dtype: int64\n",
            "The required mean is 5.5\n"
          ]
        }
      ]
    },
    {
      "cell_type": "markdown",
      "metadata": {
        "id": "wQ_ax-_jXwl-"
      },
      "source": [
        "---"
      ]
    },
    {
      "cell_type": "markdown",
      "metadata": {
        "id": "HdJwhCPTXx82"
      },
      "source": [
        "#### Activity 2: Calculate Median\n",
        "\n",
        "Write a function to calculate the median of all the numbers contained in a list/array/series."
      ]
    },
    {
      "cell_type": "code",
      "metadata": {
        "id": "MiJY7Iz7XxSw",
        "colab": {
          "base_uri": "https://localhost:8080/"
        },
        "outputId": "8ac8ec95-d4fb-49ea-ce69-7aeaf1217e92"
      },
      "source": [
        "# Solution\n",
        "def compute_median(num_series):\n",
        "  result = 0\n",
        "  num_list = [num for num in num_series]\n",
        "  num_list.sort()\n",
        "  if len(num_list) % 2 == 0:\n",
        "    result = (num_list[(len(num_list) // 2) - 1] + num_list[len(num_list) // 2]) / 2\n",
        "  else:\n",
        "    result = float(num_list[len(num_list) // 2])\n",
        "  return result\n",
        "\n",
        "num_series = pd.Series([random.randint(30, 60) for i in range(10)])\n",
        "print(\"Median without using the standard median() function:\", compute_median(num_series))\n",
        "print(\"Median using the standard median() function:\", num_series.median())"
      ],
      "execution_count": null,
      "outputs": [
        {
          "output_type": "stream",
          "name": "stdout",
          "text": [
            "Median without using the standard median() function: 46.5\n",
            "Median using the standard median() function: 46.5\n"
          ]
        }
      ]
    },
    {
      "cell_type": "markdown",
      "metadata": {
        "id": "M9bsaKsMWNkN"
      },
      "source": [
        "---"
      ]
    },
    {
      "cell_type": "markdown",
      "metadata": {
        "id": "ILT3iPF-dKii"
      },
      "source": [
        "#### Activity 3: The `head()` & `tail()` Functions With Negative Inputs\n",
        "\n",
        "Let `pd_series` be a Pandas series which contains `N` number of elements. Let `n` be some positive integer such that `n < N`.\n",
        "\n",
        "The `pd_series.head(-n)` operation will return the **first** `N - n` items contained in the `pd_series`. \n",
        "\n"
      ]
    },
    {
      "cell_type": "code",
      "metadata": {
        "id": "SO6eMqksdTLO",
        "colab": {
          "base_uri": "https://localhost:8080/"
        },
        "outputId": "a798bd0f-b563-4773-bc7a-1919f4224f88"
      },
      "source": [
        "# 'head()' with negative input.\n",
        "weights.head(-8)"
      ],
      "execution_count": null,
      "outputs": [
        {
          "output_type": "execute_result",
          "data": {
            "text/plain": [
              "0     53\n",
              "1     47\n",
              "2     47\n",
              "3     57\n",
              "4     51\n",
              "5     55\n",
              "6     56\n",
              "7     47\n",
              "8     46\n",
              "9     54\n",
              "10    49\n",
              "11    54\n",
              "12    54\n",
              "13    58\n",
              "14    48\n",
              "15    48\n",
              "16    59\n",
              "17    56\n",
              "18    59\n",
              "19    55\n",
              "20    52\n",
              "21    55\n",
              "dtype: int64"
            ]
          },
          "metadata": {},
          "execution_count": 19
        }
      ]
    },
    {
      "cell_type": "markdown",
      "metadata": {
        "id": "TSskmqxyeidK"
      },
      "source": [
        "The `pd_series.tail(-n)` operation will return the **last** `N - n` items contained in the `pd_series`. "
      ]
    },
    {
      "cell_type": "code",
      "metadata": {
        "id": "6rXUegQhdWrf",
        "colab": {
          "base_uri": "https://localhost:8080/"
        },
        "outputId": "054f4b54-744f-4095-96ab-19c05bf8bbd2"
      },
      "source": [
        "# 'tail()' with negative input.\n",
        "weights.tail(-8)"
      ],
      "execution_count": null,
      "outputs": [
        {
          "output_type": "execute_result",
          "data": {
            "text/plain": [
              "8     60\n",
              "9     48\n",
              "10    60\n",
              "11    59\n",
              "12    56\n",
              "13    51\n",
              "14    58\n",
              "15    55\n",
              "16    48\n",
              "17    55\n",
              "18    48\n",
              "19    57\n",
              "20    56\n",
              "21    56\n",
              "22    56\n",
              "23    50\n",
              "24    58\n",
              "25    55\n",
              "26    50\n",
              "27    47\n",
              "28    50\n",
              "29    52\n",
              "dtype: int64"
            ]
          },
          "metadata": {},
          "execution_count": 19
        }
      ]
    },
    {
      "cell_type": "markdown",
      "source": [],
      "metadata": {
        "id": "G6fVsUt4l_Ko"
      }
    },
    {
      "cell_type": "markdown",
      "metadata": {
        "id": "bqRyoLVf6c3b"
      },
      "source": [
        "---"
      ]
    }
  ]
}